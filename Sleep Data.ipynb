{
 "cells": [
  {
   "cell_type": "markdown",
   "metadata": {},
   "source": [
    "# 个人睡眠数据分析\n",
    "这是从我手机App的 Sleep Cycle 中导出的睡眠时间和质量数据，通过Excel做了简单的数据清洗后保存为csv文件，并通过pandas进行进一步的分析\n",
    "## Step1 检视数据源"
   ]
  },
  {
   "cell_type": "markdown",
   "metadata": {},
   "source": [
    "1、发现问题 2、总结问题原因 3、解决问题"
   ]
  },
  {
   "cell_type": "code",
   "execution_count": 53,
   "metadata": {
    "collapsed": true
   },
   "outputs": [],
   "source": [
    "import pandas as pd\n",
    "import numpy as np\n",
    "import seaborn\n",
    "import matplotlib as plt"
   ]
  },
  {
   "cell_type": "code",
   "execution_count": 54,
   "metadata": {
    "collapsed": true
   },
   "outputs": [],
   "source": [
    "df = pd.read_csv(\"sleepdata.csv\")"
   ]
  },
  {
   "cell_type": "markdown",
   "metadata": {},
   "source": [
    "#### 检视数据源"
   ]
  },
  {
   "cell_type": "code",
   "execution_count": 55,
   "metadata": {
    "collapsed": false
   },
   "outputs": [
    {
     "data": {
      "text/html": [
       "<div>\n",
       "<table border=\"1\" class=\"dataframe\">\n",
       "  <thead>\n",
       "    <tr style=\"text-align: right;\">\n",
       "      <th></th>\n",
       "      <th>start_date</th>\n",
       "      <th>start_time</th>\n",
       "      <th>end_date</th>\n",
       "      <th>end_time</th>\n",
       "      <th>quality</th>\n",
       "      <th>time_in_bed</th>\n",
       "      <th>steps</th>\n",
       "    </tr>\n",
       "  </thead>\n",
       "  <tbody>\n",
       "    <tr>\n",
       "      <th>0</th>\n",
       "      <td>2016-01-22</td>\n",
       "      <td>00:58:40</td>\n",
       "      <td>2016-01-22</td>\n",
       "      <td>07:28:55</td>\n",
       "      <td>76%</td>\n",
       "      <td>6:30</td>\n",
       "      <td>108.0</td>\n",
       "    </tr>\n",
       "    <tr>\n",
       "      <th>1</th>\n",
       "      <td>2016-01-23</td>\n",
       "      <td>00:58:09</td>\n",
       "      <td>2016-01-23</td>\n",
       "      <td>07:30:18</td>\n",
       "      <td>75%</td>\n",
       "      <td>6:32</td>\n",
       "      <td>95.0</td>\n",
       "    </tr>\n",
       "    <tr>\n",
       "      <th>2</th>\n",
       "      <td>2016-01-24</td>\n",
       "      <td>01:25:00</td>\n",
       "      <td>2016-01-24</td>\n",
       "      <td>07:30:41</td>\n",
       "      <td>73%</td>\n",
       "      <td>6:05</td>\n",
       "      <td>370.0</td>\n",
       "    </tr>\n",
       "    <tr>\n",
       "      <th>3</th>\n",
       "      <td>2016-01-25</td>\n",
       "      <td>01:28:17</td>\n",
       "      <td>2016-01-25</td>\n",
       "      <td>07:32:07</td>\n",
       "      <td>55%</td>\n",
       "      <td>6:03</td>\n",
       "      <td>0.0</td>\n",
       "    </tr>\n",
       "    <tr>\n",
       "      <th>4</th>\n",
       "      <td>2016-01-27</td>\n",
       "      <td>01:14:10</td>\n",
       "      <td>2016-01-27</td>\n",
       "      <td>08:10:41</td>\n",
       "      <td>78%</td>\n",
       "      <td>6:56</td>\n",
       "      <td>1110.0</td>\n",
       "    </tr>\n",
       "  </tbody>\n",
       "</table>\n",
       "</div>"
      ],
      "text/plain": [
       "   start_date start_time    end_date  end_time quality time_in_bed   steps\n",
       "0  2016-01-22   00:58:40  2016-01-22  07:28:55     76%        6:30   108.0\n",
       "1  2016-01-23   00:58:09  2016-01-23  07:30:18     75%        6:32    95.0\n",
       "2  2016-01-24   01:25:00  2016-01-24  07:30:41     73%        6:05   370.0\n",
       "3  2016-01-25   01:28:17  2016-01-25  07:32:07     55%        6:03     0.0\n",
       "4  2016-01-27   01:14:10  2016-01-27  08:10:41     78%        6:56  1110.0"
      ]
     },
     "execution_count": 55,
     "metadata": {},
     "output_type": "execute_result"
    }
   ],
   "source": [
    "df.head()"
   ]
  },
  {
   "cell_type": "code",
   "execution_count": 56,
   "metadata": {
    "collapsed": false
   },
   "outputs": [
    {
     "data": {
      "text/html": [
       "<div>\n",
       "<table border=\"1\" class=\"dataframe\">\n",
       "  <thead>\n",
       "    <tr style=\"text-align: right;\">\n",
       "      <th></th>\n",
       "      <th>start_date</th>\n",
       "      <th>start_time</th>\n",
       "      <th>end_date</th>\n",
       "      <th>end_time</th>\n",
       "      <th>quality</th>\n",
       "      <th>time_in_bed</th>\n",
       "      <th>steps</th>\n",
       "    </tr>\n",
       "  </thead>\n",
       "  <tbody>\n",
       "    <tr>\n",
       "      <th>226</th>\n",
       "      <td>2016-12-16</td>\n",
       "      <td>02:15:49</td>\n",
       "      <td>2016-12-16</td>\n",
       "      <td>08:58:40</td>\n",
       "      <td>64%</td>\n",
       "      <td>6:42</td>\n",
       "      <td>7307.0</td>\n",
       "    </tr>\n",
       "    <tr>\n",
       "      <th>227</th>\n",
       "      <td>2016-12-17</td>\n",
       "      <td>01:12:41</td>\n",
       "      <td>2016-12-17</td>\n",
       "      <td>08:05:34</td>\n",
       "      <td>77%</td>\n",
       "      <td>6:52</td>\n",
       "      <td>8812.0</td>\n",
       "    </tr>\n",
       "    <tr>\n",
       "      <th>228</th>\n",
       "      <td>2016-12-18</td>\n",
       "      <td>03:00:00</td>\n",
       "      <td>2016-12-18</td>\n",
       "      <td>10:18:10</td>\n",
       "      <td>78%</td>\n",
       "      <td>7:18</td>\n",
       "      <td>3239.0</td>\n",
       "    </tr>\n",
       "    <tr>\n",
       "      <th>229</th>\n",
       "      <td>2016-12-20</td>\n",
       "      <td>01:19:04</td>\n",
       "      <td>2016-12-20</td>\n",
       "      <td>08:18:05</td>\n",
       "      <td>82%</td>\n",
       "      <td>6:59</td>\n",
       "      <td>4855.0</td>\n",
       "    </tr>\n",
       "    <tr>\n",
       "      <th>230</th>\n",
       "      <td>2016-12-21</td>\n",
       "      <td>00:28:43</td>\n",
       "      <td>2016-12-21</td>\n",
       "      <td>07:26:09</td>\n",
       "      <td>70%</td>\n",
       "      <td>6:57</td>\n",
       "      <td>6029.0</td>\n",
       "    </tr>\n",
       "  </tbody>\n",
       "</table>\n",
       "</div>"
      ],
      "text/plain": [
       "     start_date start_time    end_date  end_time quality time_in_bed   steps\n",
       "226  2016-12-16   02:15:49  2016-12-16  08:58:40     64%        6:42  7307.0\n",
       "227  2016-12-17   01:12:41  2016-12-17  08:05:34     77%        6:52  8812.0\n",
       "228  2016-12-18   03:00:00  2016-12-18  10:18:10     78%        7:18  3239.0\n",
       "229  2016-12-20   01:19:04  2016-12-20  08:18:05     82%        6:59  4855.0\n",
       "230  2016-12-21   00:28:43  2016-12-21  07:26:09     70%        6:57  6029.0"
      ]
     },
     "execution_count": 56,
     "metadata": {},
     "output_type": "execute_result"
    }
   ],
   "source": [
    "df.tail()"
   ]
  },
  {
   "cell_type": "markdown",
   "metadata": {},
   "source": [
    "数据源从2016/1/22-2016/12/21共有230条数据，从左到右的栏依次为睡眠记录开始日期、开始时间、结束日期、结束时间、睡眠质量、床上时间、当天步数"
   ]
  },
  {
   "cell_type": "code",
   "execution_count": 57,
   "metadata": {
    "collapsed": false
   },
   "outputs": [
    {
     "data": {
      "text/plain": [
       "start_date      object\n",
       "start_time      object\n",
       "end_date        object\n",
       "end_time        object\n",
       "quality         object\n",
       "time_in_bed     object\n",
       "steps          float64\n",
       "dtype: object"
      ]
     },
     "execution_count": 57,
     "metadata": {},
     "output_type": "execute_result"
    }
   ],
   "source": [
    "df.dtypes"
   ]
  },
  {
   "cell_type": "markdown",
   "metadata": {},
   "source": [
    "导入的数据中前六列数据都是字符串类型，只有最后一列为float"
   ]
  },
  {
   "cell_type": "code",
   "execution_count": 58,
   "metadata": {
    "collapsed": false
   },
   "outputs": [
    {
     "data": {
      "text/plain": [
       "start_date     0\n",
       "start_time     0\n",
       "end_date       0\n",
       "end_time       0\n",
       "quality        0\n",
       "time_in_bed    0\n",
       "steps          1\n",
       "dtype: int64"
      ]
     },
     "execution_count": 58,
     "metadata": {},
     "output_type": "execute_result"
    }
   ],
   "source": [
    "df.isnull().sum()"
   ]
  },
  {
   "cell_type": "markdown",
   "metadata": {},
   "source": [
    "数据中只有steps一列中存在NULL值"
   ]
  },
  {
   "cell_type": "markdown",
   "metadata": {},
   "source": [
    "# Step2 数据清洗"
   ]
  },
  {
   "cell_type": "markdown",
   "metadata": {},
   "source": [
    "#### 睡眠质量数据转换类型"
   ]
  },
  {
   "cell_type": "code",
   "execution_count": 59,
   "metadata": {
    "collapsed": false
   },
   "outputs": [],
   "source": [
    "df['quality'] = df['quality'].str.replace('%', '')\n",
    "df['quality'] = df['quality'].str.replace(';', '')"
   ]
  },
  {
   "cell_type": "code",
   "execution_count": 60,
   "metadata": {
    "collapsed": false
   },
   "outputs": [],
   "source": [
    "# df['quality'].str.extract('(\\d\\d)%') 利用正则表达式"
   ]
  },
  {
   "cell_type": "code",
   "execution_count": 61,
   "metadata": {
    "collapsed": false
   },
   "outputs": [],
   "source": [
    "#df['quality'].astype(int) # 为何没有转换成int类型数据？ 产生新的Series而不在原数据上修改"
   ]
  },
  {
   "cell_type": "markdown",
   "metadata": {},
   "source": [
    "#### 删除quality异常数据"
   ]
  },
  {
   "cell_type": "code",
   "execution_count": 62,
   "metadata": {
    "collapsed": false
   },
   "outputs": [],
   "source": [
    "for i in range(df['quality'].shape[0]):\n",
    "    if int(df['quality'][i]) <= 10:\n",
    "        df = df.drop(i)"
   ]
  },
  {
   "cell_type": "code",
   "execution_count": 63,
   "metadata": {
    "collapsed": true
   },
   "outputs": [],
   "source": [
    "df = df.reset_index(drop=True)"
   ]
  },
  {
   "cell_type": "markdown",
   "metadata": {},
   "source": [
    "平时的睡眠记录中，经常有测试软件时的数据记录，并非真实的睡眠情况，因此将睡眠质量不大于10%的数据剔除"
   ]
  },
  {
   "cell_type": "markdown",
   "metadata": {},
   "source": [
    "#### 转换time_in_bed数据格式"
   ]
  },
  {
   "cell_type": "code",
   "execution_count": 64,
   "metadata": {
    "collapsed": false
   },
   "outputs": [
    {
     "data": {
      "text/html": [
       "<div>\n",
       "<table border=\"1\" class=\"dataframe\">\n",
       "  <thead>\n",
       "    <tr style=\"text-align: right;\">\n",
       "      <th></th>\n",
       "      <th>hours</th>\n",
       "      <th>minutes</th>\n",
       "    </tr>\n",
       "  </thead>\n",
       "  <tbody>\n",
       "    <tr>\n",
       "      <th>0</th>\n",
       "      <td>6</td>\n",
       "      <td>30</td>\n",
       "    </tr>\n",
       "    <tr>\n",
       "      <th>1</th>\n",
       "      <td>6</td>\n",
       "      <td>32</td>\n",
       "    </tr>\n",
       "    <tr>\n",
       "      <th>2</th>\n",
       "      <td>6</td>\n",
       "      <td>05</td>\n",
       "    </tr>\n",
       "    <tr>\n",
       "      <th>3</th>\n",
       "      <td>6</td>\n",
       "      <td>03</td>\n",
       "    </tr>\n",
       "    <tr>\n",
       "      <th>4</th>\n",
       "      <td>6</td>\n",
       "      <td>56</td>\n",
       "    </tr>\n",
       "  </tbody>\n",
       "</table>\n",
       "</div>"
      ],
      "text/plain": [
       "  hours minutes\n",
       "0     6      30\n",
       "1     6      32\n",
       "2     6      05\n",
       "3     6      03\n",
       "4     6      56"
      ]
     },
     "execution_count": 64,
     "metadata": {},
     "output_type": "execute_result"
    }
   ],
   "source": [
    "time_bed = pd.DataFrame((x.split(':') for x in df['time_in_bed']), columns=['hours','minutes'])\n",
    "time_bed.head()"
   ]
  },
  {
   "cell_type": "code",
   "execution_count": 65,
   "metadata": {
    "collapsed": false
   },
   "outputs": [],
   "source": [
    "df['time_in_bed_minute'] = time_bed['minutes']\n",
    "df['time_in_bed_hour'] = time_bed['hours']"
   ]
  },
  {
   "cell_type": "code",
   "execution_count": 66,
   "metadata": {
    "collapsed": false
   },
   "outputs": [
    {
     "data": {
      "text/html": [
       "<div>\n",
       "<table border=\"1\" class=\"dataframe\">\n",
       "  <thead>\n",
       "    <tr style=\"text-align: right;\">\n",
       "      <th></th>\n",
       "      <th>start_date</th>\n",
       "      <th>start_time</th>\n",
       "      <th>end_date</th>\n",
       "      <th>end_time</th>\n",
       "      <th>quality</th>\n",
       "      <th>time_in_bed</th>\n",
       "      <th>steps</th>\n",
       "      <th>time_in_bed_minute</th>\n",
       "      <th>time_in_bed_hour</th>\n",
       "    </tr>\n",
       "  </thead>\n",
       "  <tbody>\n",
       "    <tr>\n",
       "      <th>221</th>\n",
       "      <td>2016-12-16</td>\n",
       "      <td>02:15:49</td>\n",
       "      <td>2016-12-16</td>\n",
       "      <td>08:58:40</td>\n",
       "      <td>64</td>\n",
       "      <td>6:42</td>\n",
       "      <td>7307.0</td>\n",
       "      <td>42</td>\n",
       "      <td>6</td>\n",
       "    </tr>\n",
       "    <tr>\n",
       "      <th>222</th>\n",
       "      <td>2016-12-17</td>\n",
       "      <td>01:12:41</td>\n",
       "      <td>2016-12-17</td>\n",
       "      <td>08:05:34</td>\n",
       "      <td>77</td>\n",
       "      <td>6:52</td>\n",
       "      <td>8812.0</td>\n",
       "      <td>52</td>\n",
       "      <td>6</td>\n",
       "    </tr>\n",
       "    <tr>\n",
       "      <th>223</th>\n",
       "      <td>2016-12-18</td>\n",
       "      <td>03:00:00</td>\n",
       "      <td>2016-12-18</td>\n",
       "      <td>10:18:10</td>\n",
       "      <td>78</td>\n",
       "      <td>7:18</td>\n",
       "      <td>3239.0</td>\n",
       "      <td>18</td>\n",
       "      <td>7</td>\n",
       "    </tr>\n",
       "    <tr>\n",
       "      <th>224</th>\n",
       "      <td>2016-12-20</td>\n",
       "      <td>01:19:04</td>\n",
       "      <td>2016-12-20</td>\n",
       "      <td>08:18:05</td>\n",
       "      <td>82</td>\n",
       "      <td>6:59</td>\n",
       "      <td>4855.0</td>\n",
       "      <td>59</td>\n",
       "      <td>6</td>\n",
       "    </tr>\n",
       "    <tr>\n",
       "      <th>225</th>\n",
       "      <td>2016-12-21</td>\n",
       "      <td>00:28:43</td>\n",
       "      <td>2016-12-21</td>\n",
       "      <td>07:26:09</td>\n",
       "      <td>70</td>\n",
       "      <td>6:57</td>\n",
       "      <td>6029.0</td>\n",
       "      <td>57</td>\n",
       "      <td>6</td>\n",
       "    </tr>\n",
       "  </tbody>\n",
       "</table>\n",
       "</div>"
      ],
      "text/plain": [
       "     start_date start_time    end_date  end_time quality time_in_bed   steps  \\\n",
       "221  2016-12-16   02:15:49  2016-12-16  08:58:40      64        6:42  7307.0   \n",
       "222  2016-12-17   01:12:41  2016-12-17  08:05:34      77        6:52  8812.0   \n",
       "223  2016-12-18   03:00:00  2016-12-18  10:18:10      78        7:18  3239.0   \n",
       "224  2016-12-20   01:19:04  2016-12-20  08:18:05      82        6:59  4855.0   \n",
       "225  2016-12-21   00:28:43  2016-12-21  07:26:09      70        6:57  6029.0   \n",
       "\n",
       "    time_in_bed_minute time_in_bed_hour  \n",
       "221                 42                6  \n",
       "222                 52                6  \n",
       "223                 18                7  \n",
       "224                 59                6  \n",
       "225                 57                6  "
      ]
     },
     "execution_count": 66,
     "metadata": {},
     "output_type": "execute_result"
    }
   ],
   "source": [
    "df.tail()"
   ]
  },
  {
   "cell_type": "code",
   "execution_count": 67,
   "metadata": {
    "collapsed": false
   },
   "outputs": [],
   "source": [
    "df['time_in_bed_minute'] = df['time_in_bed_minute'].astype(int)\n",
    "df['time_in_bed_hour'] = df['time_in_bed_hour'].astype(int)"
   ]
  },
  {
   "cell_type": "code",
   "execution_count": 68,
   "metadata": {
    "collapsed": false
   },
   "outputs": [],
   "source": [
    "df['time_in_bed_minute'] = df['time_in_bed_minute']/60"
   ]
  },
  {
   "cell_type": "code",
   "execution_count": 69,
   "metadata": {
    "collapsed": false
   },
   "outputs": [],
   "source": [
    "df['bed_time'] = df['time_in_bed_minute'] + df['time_in_bed_hour']"
   ]
  },
  {
   "cell_type": "code",
   "execution_count": 70,
   "metadata": {
    "collapsed": true
   },
   "outputs": [],
   "source": [
    "df['quality'] = df['quality'].astype(int)"
   ]
  },
  {
   "cell_type": "code",
   "execution_count": 71,
   "metadata": {
    "collapsed": false
   },
   "outputs": [],
   "source": [
    "df = df.drop('time_in_bed_minute', axis=1)\n",
    "df = df.drop('time_in_bed_hour', axis=1)"
   ]
  },
  {
   "cell_type": "markdown",
   "metadata": {},
   "source": [
    "将time_in_bed的时长数据通过分列再组合的方式，转换成float类型的时长数据\n",
    "将quality数据由object类型转换成int类型数据"
   ]
  },
  {
   "cell_type": "code",
   "execution_count": 72,
   "metadata": {
    "collapsed": false
   },
   "outputs": [
    {
     "data": {
      "text/plain": [
       "start_date      object\n",
       "start_time      object\n",
       "end_date        object\n",
       "end_time        object\n",
       "quality          int64\n",
       "time_in_bed     object\n",
       "steps          float64\n",
       "bed_time       float64\n",
       "dtype: object"
      ]
     },
     "execution_count": 72,
     "metadata": {},
     "output_type": "execute_result"
    }
   ],
   "source": [
    "df.dtypes"
   ]
  },
  {
   "cell_type": "code",
   "execution_count": 73,
   "metadata": {
    "collapsed": false,
    "scrolled": true
   },
   "outputs": [
    {
     "data": {
      "text/html": [
       "<div>\n",
       "<table border=\"1\" class=\"dataframe\">\n",
       "  <thead>\n",
       "    <tr style=\"text-align: right;\">\n",
       "      <th></th>\n",
       "      <th>quality</th>\n",
       "      <th>steps</th>\n",
       "      <th>bed_time</th>\n",
       "    </tr>\n",
       "  </thead>\n",
       "  <tbody>\n",
       "    <tr>\n",
       "      <th>count</th>\n",
       "      <td>226.000000</td>\n",
       "      <td>226.000000</td>\n",
       "      <td>226.000000</td>\n",
       "    </tr>\n",
       "    <tr>\n",
       "      <th>mean</th>\n",
       "      <td>67.570796</td>\n",
       "      <td>7894.336283</td>\n",
       "      <td>6.610324</td>\n",
       "    </tr>\n",
       "    <tr>\n",
       "      <th>std</th>\n",
       "      <td>14.375808</td>\n",
       "      <td>4366.198215</td>\n",
       "      <td>1.104509</td>\n",
       "    </tr>\n",
       "    <tr>\n",
       "      <th>min</th>\n",
       "      <td>15.000000</td>\n",
       "      <td>0.000000</td>\n",
       "      <td>1.233333</td>\n",
       "    </tr>\n",
       "    <tr>\n",
       "      <th>25%</th>\n",
       "      <td>61.000000</td>\n",
       "      <td>5317.250000</td>\n",
       "      <td>6.333333</td>\n",
       "    </tr>\n",
       "    <tr>\n",
       "      <th>50%</th>\n",
       "      <td>70.000000</td>\n",
       "      <td>7440.500000</td>\n",
       "      <td>6.775000</td>\n",
       "    </tr>\n",
       "    <tr>\n",
       "      <th>75%</th>\n",
       "      <td>76.000000</td>\n",
       "      <td>9628.000000</td>\n",
       "      <td>7.162500</td>\n",
       "    </tr>\n",
       "    <tr>\n",
       "      <th>max</th>\n",
       "      <td>96.000000</td>\n",
       "      <td>25459.000000</td>\n",
       "      <td>8.900000</td>\n",
       "    </tr>\n",
       "  </tbody>\n",
       "</table>\n",
       "</div>"
      ],
      "text/plain": [
       "          quality         steps    bed_time\n",
       "count  226.000000    226.000000  226.000000\n",
       "mean    67.570796   7894.336283    6.610324\n",
       "std     14.375808   4366.198215    1.104509\n",
       "min     15.000000      0.000000    1.233333\n",
       "25%     61.000000   5317.250000    6.333333\n",
       "50%     70.000000   7440.500000    6.775000\n",
       "75%     76.000000   9628.000000    7.162500\n",
       "max     96.000000  25459.000000    8.900000"
      ]
     },
     "execution_count": 73,
     "metadata": {},
     "output_type": "execute_result"
    }
   ],
   "source": [
    "df.describe()"
   ]
  },
  {
   "cell_type": "markdown",
   "metadata": {},
   "source": [
    "** 转换Start_time数据格式 **"
   ]
  },
  {
   "cell_type": "code",
   "execution_count": 74,
   "metadata": {
    "collapsed": false
   },
   "outputs": [
    {
     "data": {
      "text/html": [
       "<div>\n",
       "<table border=\"1\" class=\"dataframe\">\n",
       "  <thead>\n",
       "    <tr style=\"text-align: right;\">\n",
       "      <th></th>\n",
       "      <th>start_hours</th>\n",
       "      <th>start_minutes</th>\n",
       "      <th>start_seconds</th>\n",
       "    </tr>\n",
       "  </thead>\n",
       "  <tbody>\n",
       "    <tr>\n",
       "      <th>0</th>\n",
       "      <td>00</td>\n",
       "      <td>58</td>\n",
       "      <td>40</td>\n",
       "    </tr>\n",
       "    <tr>\n",
       "      <th>1</th>\n",
       "      <td>00</td>\n",
       "      <td>58</td>\n",
       "      <td>09</td>\n",
       "    </tr>\n",
       "    <tr>\n",
       "      <th>2</th>\n",
       "      <td>01</td>\n",
       "      <td>25</td>\n",
       "      <td>00</td>\n",
       "    </tr>\n",
       "    <tr>\n",
       "      <th>3</th>\n",
       "      <td>01</td>\n",
       "      <td>28</td>\n",
       "      <td>17</td>\n",
       "    </tr>\n",
       "    <tr>\n",
       "      <th>4</th>\n",
       "      <td>01</td>\n",
       "      <td>14</td>\n",
       "      <td>10</td>\n",
       "    </tr>\n",
       "  </tbody>\n",
       "</table>\n",
       "</div>"
      ],
      "text/plain": [
       "  start_hours start_minutes start_seconds\n",
       "0          00            58            40\n",
       "1          00            58            09\n",
       "2          01            25            00\n",
       "3          01            28            17\n",
       "4          01            14            10"
      ]
     },
     "execution_count": 74,
     "metadata": {},
     "output_type": "execute_result"
    }
   ],
   "source": [
    "start_time = pd.DataFrame((x.split(':') for x in df['start_time']), columns=['start_hours','start_minutes','start_seconds'])\n",
    "start_time.head()"
   ]
  },
  {
   "cell_type": "code",
   "execution_count": 75,
   "metadata": {
    "collapsed": true
   },
   "outputs": [],
   "source": [
    "df['start_minute'] = start_time['start_minutes']\n",
    "df['start_hour'] = start_time['start_hours']\n",
    "df['start_second'] = start_time['start_seconds']"
   ]
  },
  {
   "cell_type": "code",
   "execution_count": 76,
   "metadata": {
    "collapsed": false
   },
   "outputs": [
    {
     "data": {
      "text/html": [
       "<div>\n",
       "<table border=\"1\" class=\"dataframe\">\n",
       "  <thead>\n",
       "    <tr style=\"text-align: right;\">\n",
       "      <th></th>\n",
       "      <th>start_date</th>\n",
       "      <th>start_time</th>\n",
       "      <th>end_date</th>\n",
       "      <th>end_time</th>\n",
       "      <th>quality</th>\n",
       "      <th>time_in_bed</th>\n",
       "      <th>steps</th>\n",
       "      <th>bed_time</th>\n",
       "      <th>start_minute</th>\n",
       "      <th>start_hour</th>\n",
       "      <th>start_second</th>\n",
       "    </tr>\n",
       "  </thead>\n",
       "  <tbody>\n",
       "    <tr>\n",
       "      <th>0</th>\n",
       "      <td>2016-01-22</td>\n",
       "      <td>00:58:40</td>\n",
       "      <td>2016-01-22</td>\n",
       "      <td>07:28:55</td>\n",
       "      <td>76</td>\n",
       "      <td>6:30</td>\n",
       "      <td>108.0</td>\n",
       "      <td>6.500000</td>\n",
       "      <td>58</td>\n",
       "      <td>00</td>\n",
       "      <td>40</td>\n",
       "    </tr>\n",
       "    <tr>\n",
       "      <th>1</th>\n",
       "      <td>2016-01-23</td>\n",
       "      <td>00:58:09</td>\n",
       "      <td>2016-01-23</td>\n",
       "      <td>07:30:18</td>\n",
       "      <td>75</td>\n",
       "      <td>6:32</td>\n",
       "      <td>95.0</td>\n",
       "      <td>6.533333</td>\n",
       "      <td>58</td>\n",
       "      <td>00</td>\n",
       "      <td>09</td>\n",
       "    </tr>\n",
       "    <tr>\n",
       "      <th>2</th>\n",
       "      <td>2016-01-24</td>\n",
       "      <td>01:25:00</td>\n",
       "      <td>2016-01-24</td>\n",
       "      <td>07:30:41</td>\n",
       "      <td>73</td>\n",
       "      <td>6:05</td>\n",
       "      <td>370.0</td>\n",
       "      <td>6.083333</td>\n",
       "      <td>25</td>\n",
       "      <td>01</td>\n",
       "      <td>00</td>\n",
       "    </tr>\n",
       "    <tr>\n",
       "      <th>3</th>\n",
       "      <td>2016-01-25</td>\n",
       "      <td>01:28:17</td>\n",
       "      <td>2016-01-25</td>\n",
       "      <td>07:32:07</td>\n",
       "      <td>55</td>\n",
       "      <td>6:03</td>\n",
       "      <td>0.0</td>\n",
       "      <td>6.050000</td>\n",
       "      <td>28</td>\n",
       "      <td>01</td>\n",
       "      <td>17</td>\n",
       "    </tr>\n",
       "    <tr>\n",
       "      <th>4</th>\n",
       "      <td>2016-01-27</td>\n",
       "      <td>01:14:10</td>\n",
       "      <td>2016-01-27</td>\n",
       "      <td>08:10:41</td>\n",
       "      <td>78</td>\n",
       "      <td>6:56</td>\n",
       "      <td>1110.0</td>\n",
       "      <td>6.933333</td>\n",
       "      <td>14</td>\n",
       "      <td>01</td>\n",
       "      <td>10</td>\n",
       "    </tr>\n",
       "  </tbody>\n",
       "</table>\n",
       "</div>"
      ],
      "text/plain": [
       "   start_date start_time    end_date  end_time  quality time_in_bed   steps  \\\n",
       "0  2016-01-22   00:58:40  2016-01-22  07:28:55       76        6:30   108.0   \n",
       "1  2016-01-23   00:58:09  2016-01-23  07:30:18       75        6:32    95.0   \n",
       "2  2016-01-24   01:25:00  2016-01-24  07:30:41       73        6:05   370.0   \n",
       "3  2016-01-25   01:28:17  2016-01-25  07:32:07       55        6:03     0.0   \n",
       "4  2016-01-27   01:14:10  2016-01-27  08:10:41       78        6:56  1110.0   \n",
       "\n",
       "   bed_time start_minute start_hour start_second  \n",
       "0  6.500000           58         00           40  \n",
       "1  6.533333           58         00           09  \n",
       "2  6.083333           25         01           00  \n",
       "3  6.050000           28         01           17  \n",
       "4  6.933333           14         01           10  "
      ]
     },
     "execution_count": 76,
     "metadata": {},
     "output_type": "execute_result"
    }
   ],
   "source": [
    "df.head()"
   ]
  },
  {
   "cell_type": "code",
   "execution_count": 77,
   "metadata": {
    "collapsed": false
   },
   "outputs": [],
   "source": [
    "df['start_minute'] = df['start_minute'].astype(int)\n",
    "df['start_hour'] = df['start_hour'].astype(int)\n",
    "df['start_second'] = df['start_second'].astype(int)"
   ]
  },
  {
   "cell_type": "code",
   "execution_count": 104,
   "metadata": {
    "collapsed": false
   },
   "outputs": [
    {
     "data": {
      "text/plain": [
       "<matplotlib.axes._subplots.AxesSubplot at 0x11b523208>"
      ]
     },
     "execution_count": 104,
     "metadata": {},
     "output_type": "execute_result"
    },
    {
     "data": {
      "image/png": "[encoded data removed]",
      "text/plain": [
       "<matplotlib.figure.Figure at 0x11b52ba58>"
      ]
     },
     "metadata": {},
     "output_type": "display_data"
    }
   ],
   "source": [
    "df['start_hour'].plot(kind='hist')"
   ]
  },
  {
   "cell_type": "code",
   "execution_count": 105,
   "metadata": {
    "collapsed": true
   },
   "outputs": [],
   "source": [
    "df['start_minute'] = df['start_minute']/60"
   ]
  },
  {
   "cell_type": "code",
   "execution_count": 106,
   "metadata": {
    "collapsed": true
   },
   "outputs": [],
   "source": [
    "df['start_num_time'] = df['start_hour'] + df['start_minute']"
   ]
  },
  {
   "cell_type": "code",
   "execution_count": 107,
   "metadata": {
    "collapsed": false
   },
   "outputs": [
    {
     "data": {
      "text/html": [
       "<div>\n",
       "<table border=\"1\" class=\"dataframe\">\n",
       "  <thead>\n",
       "    <tr style=\"text-align: right;\">\n",
       "      <th></th>\n",
       "      <th>start_date</th>\n",
       "      <th>start_time</th>\n",
       "      <th>end_date</th>\n",
       "      <th>end_time</th>\n",
       "      <th>quality</th>\n",
       "      <th>time_in_bed</th>\n",
       "      <th>steps</th>\n",
       "      <th>bed_time</th>\n",
       "      <th>start_minute</th>\n",
       "      <th>start_hour</th>\n",
       "      <th>start_second</th>\n",
       "      <th>start_num_time</th>\n",
       "    </tr>\n",
       "  </thead>\n",
       "  <tbody>\n",
       "    <tr>\n",
       "      <th>0</th>\n",
       "      <td>2016-01-22</td>\n",
       "      <td>00:58:40</td>\n",
       "      <td>2016-01-22</td>\n",
       "      <td>07:28:55</td>\n",
       "      <td>76</td>\n",
       "      <td>6:30</td>\n",
       "      <td>108.0</td>\n",
       "      <td>6.500000</td>\n",
       "      <td>0.966667</td>\n",
       "      <td>0</td>\n",
       "      <td>40</td>\n",
       "      <td>0.966667</td>\n",
       "    </tr>\n",
       "    <tr>\n",
       "      <th>1</th>\n",
       "      <td>2016-01-23</td>\n",
       "      <td>00:58:09</td>\n",
       "      <td>2016-01-23</td>\n",
       "      <td>07:30:18</td>\n",
       "      <td>75</td>\n",
       "      <td>6:32</td>\n",
       "      <td>95.0</td>\n",
       "      <td>6.533333</td>\n",
       "      <td>0.966667</td>\n",
       "      <td>0</td>\n",
       "      <td>9</td>\n",
       "      <td>0.966667</td>\n",
       "    </tr>\n",
       "    <tr>\n",
       "      <th>2</th>\n",
       "      <td>2016-01-24</td>\n",
       "      <td>01:25:00</td>\n",
       "      <td>2016-01-24</td>\n",
       "      <td>07:30:41</td>\n",
       "      <td>73</td>\n",
       "      <td>6:05</td>\n",
       "      <td>370.0</td>\n",
       "      <td>6.083333</td>\n",
       "      <td>0.416667</td>\n",
       "      <td>1</td>\n",
       "      <td>0</td>\n",
       "      <td>1.416667</td>\n",
       "    </tr>\n",
       "    <tr>\n",
       "      <th>3</th>\n",
       "      <td>2016-01-25</td>\n",
       "      <td>01:28:17</td>\n",
       "      <td>2016-01-25</td>\n",
       "      <td>07:32:07</td>\n",
       "      <td>55</td>\n",
       "      <td>6:03</td>\n",
       "      <td>0.0</td>\n",
       "      <td>6.050000</td>\n",
       "      <td>0.466667</td>\n",
       "      <td>1</td>\n",
       "      <td>17</td>\n",
       "      <td>1.466667</td>\n",
       "    </tr>\n",
       "    <tr>\n",
       "      <th>4</th>\n",
       "      <td>2016-01-27</td>\n",
       "      <td>01:14:10</td>\n",
       "      <td>2016-01-27</td>\n",
       "      <td>08:10:41</td>\n",
       "      <td>78</td>\n",
       "      <td>6:56</td>\n",
       "      <td>1110.0</td>\n",
       "      <td>6.933333</td>\n",
       "      <td>0.233333</td>\n",
       "      <td>1</td>\n",
       "      <td>10</td>\n",
       "      <td>1.233333</td>\n",
       "    </tr>\n",
       "  </tbody>\n",
       "</table>\n",
       "</div>"
      ],
      "text/plain": [
       "   start_date start_time    end_date  end_time  quality time_in_bed   steps  \\\n",
       "0  2016-01-22   00:58:40  2016-01-22  07:28:55       76        6:30   108.0   \n",
       "1  2016-01-23   00:58:09  2016-01-23  07:30:18       75        6:32    95.0   \n",
       "2  2016-01-24   01:25:00  2016-01-24  07:30:41       73        6:05   370.0   \n",
       "3  2016-01-25   01:28:17  2016-01-25  07:32:07       55        6:03     0.0   \n",
       "4  2016-01-27   01:14:10  2016-01-27  08:10:41       78        6:56  1110.0   \n",
       "\n",
       "   bed_time  start_minute  start_hour  start_second  start_num_time  \n",
       "0  6.500000      0.966667           0            40        0.966667  \n",
       "1  6.533333      0.966667           0             9        0.966667  \n",
       "2  6.083333      0.416667           1             0        1.416667  \n",
       "3  6.050000      0.466667           1            17        1.466667  \n",
       "4  6.933333      0.233333           1            10        1.233333  "
      ]
     },
     "execution_count": 107,
     "metadata": {},
     "output_type": "execute_result"
    }
   ],
   "source": [
    "df.head()"
   ]
  },
  {
   "cell_type": "markdown",
   "metadata": {},
   "source": [
    "** 删除start_num_time异常的数据 **"
   ]
  },
  {
   "cell_type": "code",
   "execution_count": 137,
   "metadata": {
    "collapsed": false
   },
   "outputs": [],
   "source": [
    "# df['start_num_time'].loc(7)"
   ]
  },
  {
   "cell_type": "code",
   "execution_count": 143,
   "metadata": {
    "collapsed": true
   },
   "outputs": [],
   "source": [
    "for i in df['start_num_time']:\n",
    "    if i < 21 and i >6:\n",
    "        print(i)"
   ]
  },
  {
   "cell_type": "markdown",
   "metadata": {},
   "source": [
    "** Q: 如何选取入睡时间为7的特定行数据？ **"
   ]
  },
  {
   "cell_type": "code",
   "execution_count": 129,
   "metadata": {
    "collapsed": false
   },
   "outputs": [],
   "source": [
    "for i in range(df['start_num_time'].shape[0]):\n",
    "    if int(df['start_num_time'][i]) < 21 and int(df['start_num_time'][i]) > 6:\n",
    "        df = df.drop(i)"
   ]
  },
  {
   "cell_type": "code",
   "execution_count": 130,
   "metadata": {
    "collapsed": true
   },
   "outputs": [],
   "source": [
    "df = df.reset_index(drop=True)"
   ]
  },
  {
   "cell_type": "code",
   "execution_count": 138,
   "metadata": {
    "collapsed": false
   },
   "outputs": [],
   "source": [
    "for i in df['start_num_time']:\n",
    "    if i < 21 and i >6:\n",
    "        print(i)"
   ]
  },
  {
   "cell_type": "markdown",
   "metadata": {},
   "source": [
    "#### 删除bed_time异常数据"
   ]
  },
  {
   "cell_type": "code",
   "execution_count": 135,
   "metadata": {
    "collapsed": true
   },
   "outputs": [],
   "source": [
    "for i in range(df['bed_time'].shape[0]):\n",
    "    if int(df['bed_time'][i]) < 3:\n",
    "        df = df.drop(i)"
   ]
  },
  {
   "cell_type": "code",
   "execution_count": 136,
   "metadata": {
    "collapsed": true
   },
   "outputs": [],
   "source": [
    "df = df.reset_index(drop=True)"
   ]
  },
  {
   "cell_type": "markdown",
   "metadata": {},
   "source": [
    "同理，将睡眠数据中，睡眠时间小于三小时的特殊记录删除"
   ]
  },
  {
   "cell_type": "markdown",
   "metadata": {
    "collapsed": true
   },
   "source": [
    "** 基本数据分析 **"
   ]
  },
  {
   "cell_type": "code",
   "execution_count": 149,
   "metadata": {
    "collapsed": true
   },
   "outputs": [],
   "source": [
    "start = []\n",
    "for i in df['start_num_time']:\n",
    "    if i <6:\n",
    "        start.append(i)\n",
    "    else:\n",
    "        start.append(i-24)"
   ]
  },
  {
   "cell_type": "code",
   "execution_count": 155,
   "metadata": {
    "collapsed": false
   },
   "outputs": [
    {
     "data": {
      "text/plain": [
       "1.0969135802469134"
      ]
     },
     "execution_count": 155,
     "metadata": {},
     "output_type": "execute_result"
    }
   ],
   "source": [
    "np.mean(start)"
   ]
  },
  {
   "cell_type": "markdown",
   "metadata": {
    "collapsed": true
   },
   "source": [
    "平均入睡时间为凌晨1点5分左右"
   ]
  },
  {
   "cell_type": "code",
   "execution_count": 156,
   "metadata": {
    "collapsed": false
   },
   "outputs": [
    {
     "data": {
      "text/plain": [
       "6.755169753086414"
      ]
     },
     "execution_count": 156,
     "metadata": {},
     "output_type": "execute_result"
    }
   ],
   "source": [
    "df['bed_time'].mean()"
   ]
  },
  {
   "cell_type": "markdown",
   "metadata": {
    "collapsed": true
   },
   "source": [
    "平均睡眠时间为6小时45分钟左右"
   ]
  },
  {
   "cell_type": "code",
   "execution_count": 158,
   "metadata": {
    "collapsed": false
   },
   "outputs": [
    {
     "data": {
      "text/plain": [
       "68.95833333333333"
      ]
     },
     "execution_count": 158,
     "metadata": {},
     "output_type": "execute_result"
    }
   ],
   "source": [
    "df['quality'].mean()"
   ]
  },
  {
   "cell_type": "markdown",
   "metadata": {},
   "source": [
    "平均睡眠质量为68.96%"
   ]
  },
  {
   "cell_type": "code",
   "execution_count": 159,
   "metadata": {
    "collapsed": true
   },
   "outputs": [],
   "source": [
    "steps = []\n",
    "for i in df['steps']:\n",
    "    if i != 0:\n",
    "        steps.append(i)"
   ]
  },
  {
   "cell_type": "code",
   "execution_count": 160,
   "metadata": {
    "collapsed": false
   },
   "outputs": [
    {
     "data": {
      "text/plain": [
       "7950.68544600939"
      ]
     },
     "execution_count": 160,
     "metadata": {},
     "output_type": "execute_result"
    }
   ],
   "source": [
    "np.mean(steps)"
   ]
  },
  {
   "cell_type": "markdown",
   "metadata": {},
   "source": [
    "平均每日步数为7951步"
   ]
  },
  {
   "cell_type": "markdown",
   "metadata": {},
   "source": [
    "# Step3 数据可视化探索"
   ]
  },
  {
   "cell_type": "markdown",
   "metadata": {},
   "source": [
    "#### 数据分布"
   ]
  },
  {
   "cell_type": "code",
   "execution_count": 40,
   "metadata": {
    "collapsed": false
   },
   "outputs": [
    {
     "data": {
      "text/plain": [
       "<matplotlib.axes._subplots.AxesSubplot at 0x117d9eac8>"
      ]
     },
     "execution_count": 40,
     "metadata": {},
     "output_type": "execute_result"
    }
   ],
   "source": [
    "df['steps'].plot()"
   ]
  },
  {
   "cell_type": "code",
   "execution_count": 226,
   "metadata": {
    "collapsed": false
   },
   "outputs": [
    {
     "data": {
      "text/plain": [
       "<matplotlib.axes._subplots.AxesSubplot at 0x118eb6240>"
      ]
     },
     "execution_count": 226,
     "metadata": {},
     "output_type": "execute_result"
    },
    {
     "data": {
      "image/png": "[encoded data removed]",
      "text/plain": [
       "<matplotlib.figure.Figure at 0x118ef4f98>"
      ]
     },
     "metadata": {},
     "output_type": "display_data"
    }
   ],
   "source": [
    "df['quality'].plot()"
   ]
  },
  {
   "cell_type": "code",
   "execution_count": 227,
   "metadata": {
    "collapsed": false
   },
   "outputs": [
    {
     "data": {
      "text/plain": [
       "<matplotlib.axes._subplots.AxesSubplot at 0x11596e940>"
      ]
     },
     "execution_count": 227,
     "metadata": {},
     "output_type": "execute_result"
    },
    {
     "data": {
      "image/png": "[encoded data removed]",
      "text/plain": [
       "<matplotlib.figure.Figure at 0x118f3c518>"
      ]
     },
     "metadata": {},
     "output_type": "display_data"
    }
   ],
   "source": [
    "df['bed_time'].plot()"
   ]
  },
  {
   "cell_type": "markdown",
   "metadata": {},
   "source": [
    "#### 数据之间的联系"
   ]
  },
  {
   "cell_type": "code",
   "execution_count": 229,
   "metadata": {
    "collapsed": false,
    "scrolled": false
   },
   "outputs": [
    {
     "data": {
      "text/plain": [
       "<matplotlib.axes._subplots.AxesSubplot at 0x11901a668>"
      ]
     },
     "execution_count": 229,
     "metadata": {},
     "output_type": "execute_result"
    },
    {
     "data": {
      "image/png": "[encoded data removed]",
      "text/plain": [
       "<matplotlib.figure.Figure at 0x119337cc0>"
      ]
     },
     "metadata": {},
     "output_type": "display_data"
    }
   ],
   "source": [
    "df.plot(kind=\"scatter\", x=\"steps\", y=\"quality\")"
   ]
  },
  {
   "cell_type": "code",
   "execution_count": 230,
   "metadata": {
    "collapsed": false
   },
   "outputs": [
    {
     "data": {
      "text/plain": [
       "<matplotlib.axes._subplots.AxesSubplot at 0x119402f60>"
      ]
     },
     "execution_count": 230,
     "metadata": {},
     "output_type": "execute_result"
    },
    {
     "data": {
      "image/png": "[encoded data removed]",
      "text/plain": [
       "<matplotlib.figure.Figure at 0x1196071d0>"
      ]
     },
     "metadata": {},
     "output_type": "display_data"
    }
   ],
   "source": [
    "df.plot(kind=\"scatter\", x=\"bed_time\", y=\"quality\")"
   ]
  },
  {
   "cell_type": "code",
   "execution_count": 231,
   "metadata": {
    "collapsed": false
   },
   "outputs": [
    {
     "data": {
      "text/plain": [
       "<matplotlib.axes._subplots.AxesSubplot at 0x119750278>"
      ]
     },
     "execution_count": 231,
     "metadata": {},
     "output_type": "execute_result"
    },
    {
     "data": {
      "image/png": "[encoded data removed]",
      "text/plain": [
       "<matplotlib.figure.Figure at 0x11975aa58>"
      ]
     },
     "metadata": {},
     "output_type": "display_data"
    }
   ],
   "source": [
    "df.plot(kind=\"scatter\", x=\"steps\", y=\"bed_time\")"
   ]
  },
  {
   "cell_type": "markdown",
   "metadata": {},
   "source": [
    "# 要点\n",
    "1. 如何实现分列的操作？\n",
    "2. 如何实现Excel中的Left，Mid等函数操作？用正则表达式？\n",
    "3. Excel中某些优越性如何通过Python来实现，比如检查表格中的异常数据，如：\"00;\"\n",
    "4. drop数据后记得要reset_index;\n",
    "5. pandas的merge操作：要有共同的列？"
   ]
  }
 ],
 "metadata": {
  "anaconda-cloud": {},
  "kernelspec": {
   "display_name": "Python [conda root]",
   "language": "python",
   "name": "conda-root-py"
  },
  "language_info": {
   "codemirror_mode": {
    "name": "ipython",
    "version": 3
   },
   "file_extension": ".py",
   "mimetype": "text/x-python",
   "name": "python",
   "nbconvert_exporter": "python",
   "pygments_lexer": "ipython3",
   "version": "3.5.2"
  }
 },
 "nbformat": 4,
 "nbformat_minor": 1
}
