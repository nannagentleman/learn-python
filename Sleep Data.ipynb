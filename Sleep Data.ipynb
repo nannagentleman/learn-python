{
 "cells": [
  {
   "cell_type": "markdown",
   "metadata": {},
   "source": [
    "# 个人睡眠分析报告\n",
    "\n",
    "## Step 0 明确目的"
   ]
  },
  {
   "cell_type": "markdown",
   "metadata": {},
   "source": [
    "** 背景 **\n",
    "\n",
    "一直在关注数据分析相关的内容，很希望自己能做一份数据分析报告，通过这种方式完整地体验一下数据分析的流程，也能对这段时间的学习成果进行检验。而作为第一份比较完整的分析报告自然要选择一个自己最熟悉、感兴趣的领域，同时又有足够的数据和切入点，于是选择尝试做个人健康数据的相关分析。"
   ]
  },
  {
   "cell_type": "markdown",
   "metadata": {},
   "source": [
    "** 分析目的 **\n",
    "\n",
    "通过对个人睡眠数据的相关分析，用可视化的方式使自己对最近一段时间的睡眠状况有更直观的了解，同时根据历史数据指导自己在未来一段时间，如何更合理的睡眠以达到更高的睡眠质量。另外，对于一些情况下的特殊数据，鉴于其数据量很小，不列入分析的范围之内。"
   ]
  },
  {
   "cell_type": "markdown",
   "metadata": {},
   "source": [
    "## Step 1 数据获取"
   ]
  },
  {
   "cell_type": "markdown",
   "metadata": {},
   "source": [
    "** 数据来源 **\n",
    "\n",
    "报告中的数据均来自Sleep Cycle，它是一款优秀的睡眠时间与质量监测的App，可以记录每晚的入睡时间、起床时间、睡眠质量以及睡眠质量等数据。在利用pandas分析之前，先利用Excel对App导出数据做了简单的数据清洗，并保存为名为“sleepdata”的CSV文件。"
   ]
  },
  {
   "cell_type": "markdown",
   "metadata": {},
   "source": [
    "** 读入数据 **"
   ]
  },
  {
   "cell_type": "code",
   "execution_count": 548,
   "metadata": {
    "collapsed": false
   },
   "outputs": [],
   "source": [
    "import pandas as pd\n",
    "import numpy as np\n",
    "import seaborn\n",
    "import matplotlib as plt\n",
    "from datetime import datetime\n",
    "from dateutil.parser import parse"
   ]
  },
  {
   "cell_type": "code",
   "execution_count": 549,
   "metadata": {
    "collapsed": true
   },
   "outputs": [],
   "source": [
    "df = pd.read_csv(\"sleepdata.csv\")"
   ]
  },
  {
   "cell_type": "markdown",
   "metadata": {},
   "source": [
    "#### 检视数据源"
   ]
  },
  {
   "cell_type": "code",
   "execution_count": 550,
   "metadata": {
    "collapsed": false
   },
   "outputs": [
    {
     "data": {
      "text/html": [
       "<div>\n",
       "<table border=\"1\" class=\"dataframe\">\n",
       "  <thead>\n",
       "    <tr style=\"text-align: right;\">\n",
       "      <th></th>\n",
       "      <th>start_date</th>\n",
       "      <th>start_time</th>\n",
       "      <th>end_date</th>\n",
       "      <th>end_time</th>\n",
       "      <th>quality</th>\n",
       "      <th>time_in_bed</th>\n",
       "      <th>steps</th>\n",
       "    </tr>\n",
       "  </thead>\n",
       "  <tbody>\n",
       "    <tr>\n",
       "      <th>0</th>\n",
       "      <td>2016-01-22</td>\n",
       "      <td>00:58:40</td>\n",
       "      <td>2016-01-22</td>\n",
       "      <td>07:28:55</td>\n",
       "      <td>76%</td>\n",
       "      <td>6:30</td>\n",
       "      <td>108.0</td>\n",
       "    </tr>\n",
       "    <tr>\n",
       "      <th>1</th>\n",
       "      <td>2016-01-23</td>\n",
       "      <td>00:58:09</td>\n",
       "      <td>2016-01-23</td>\n",
       "      <td>07:30:18</td>\n",
       "      <td>75%</td>\n",
       "      <td>6:32</td>\n",
       "      <td>95.0</td>\n",
       "    </tr>\n",
       "    <tr>\n",
       "      <th>2</th>\n",
       "      <td>2016-01-24</td>\n",
       "      <td>01:25:00</td>\n",
       "      <td>2016-01-24</td>\n",
       "      <td>07:30:41</td>\n",
       "      <td>73%</td>\n",
       "      <td>6:05</td>\n",
       "      <td>370.0</td>\n",
       "    </tr>\n",
       "    <tr>\n",
       "      <th>3</th>\n",
       "      <td>2016-01-25</td>\n",
       "      <td>01:28:17</td>\n",
       "      <td>2016-01-25</td>\n",
       "      <td>07:32:07</td>\n",
       "      <td>55%</td>\n",
       "      <td>6:03</td>\n",
       "      <td>0.0</td>\n",
       "    </tr>\n",
       "    <tr>\n",
       "      <th>4</th>\n",
       "      <td>2016-01-27</td>\n",
       "      <td>01:14:10</td>\n",
       "      <td>2016-01-27</td>\n",
       "      <td>08:10:41</td>\n",
       "      <td>78%</td>\n",
       "      <td>6:56</td>\n",
       "      <td>1110.0</td>\n",
       "    </tr>\n",
       "  </tbody>\n",
       "</table>\n",
       "</div>"
      ],
      "text/plain": [
       "   start_date start_time    end_date  end_time quality time_in_bed   steps\n",
       "0  2016-01-22   00:58:40  2016-01-22  07:28:55     76%        6:30   108.0\n",
       "1  2016-01-23   00:58:09  2016-01-23  07:30:18     75%        6:32    95.0\n",
       "2  2016-01-24   01:25:00  2016-01-24  07:30:41     73%        6:05   370.0\n",
       "3  2016-01-25   01:28:17  2016-01-25  07:32:07     55%        6:03     0.0\n",
       "4  2016-01-27   01:14:10  2016-01-27  08:10:41     78%        6:56  1110.0"
      ]
     },
     "execution_count": 550,
     "metadata": {},
     "output_type": "execute_result"
    }
   ],
   "source": [
    "df.head()"
   ]
  },
  {
   "cell_type": "code",
   "execution_count": 551,
   "metadata": {
    "collapsed": false
   },
   "outputs": [
    {
     "data": {
      "text/html": [
       "<div>\n",
       "<table border=\"1\" class=\"dataframe\">\n",
       "  <thead>\n",
       "    <tr style=\"text-align: right;\">\n",
       "      <th></th>\n",
       "      <th>start_date</th>\n",
       "      <th>start_time</th>\n",
       "      <th>end_date</th>\n",
       "      <th>end_time</th>\n",
       "      <th>quality</th>\n",
       "      <th>time_in_bed</th>\n",
       "      <th>steps</th>\n",
       "    </tr>\n",
       "  </thead>\n",
       "  <tbody>\n",
       "    <tr>\n",
       "      <th>226</th>\n",
       "      <td>2016-12-16</td>\n",
       "      <td>02:15:49</td>\n",
       "      <td>2016-12-16</td>\n",
       "      <td>08:58:40</td>\n",
       "      <td>64%</td>\n",
       "      <td>6:42</td>\n",
       "      <td>7307.0</td>\n",
       "    </tr>\n",
       "    <tr>\n",
       "      <th>227</th>\n",
       "      <td>2016-12-17</td>\n",
       "      <td>01:12:41</td>\n",
       "      <td>2016-12-17</td>\n",
       "      <td>08:05:34</td>\n",
       "      <td>77%</td>\n",
       "      <td>6:52</td>\n",
       "      <td>8812.0</td>\n",
       "    </tr>\n",
       "    <tr>\n",
       "      <th>228</th>\n",
       "      <td>2016-12-18</td>\n",
       "      <td>03:00:00</td>\n",
       "      <td>2016-12-18</td>\n",
       "      <td>10:18:10</td>\n",
       "      <td>78%</td>\n",
       "      <td>7:18</td>\n",
       "      <td>3239.0</td>\n",
       "    </tr>\n",
       "    <tr>\n",
       "      <th>229</th>\n",
       "      <td>2016-12-20</td>\n",
       "      <td>01:19:04</td>\n",
       "      <td>2016-12-20</td>\n",
       "      <td>08:18:05</td>\n",
       "      <td>82%</td>\n",
       "      <td>6:59</td>\n",
       "      <td>4855.0</td>\n",
       "    </tr>\n",
       "    <tr>\n",
       "      <th>230</th>\n",
       "      <td>2016-12-21</td>\n",
       "      <td>00:28:43</td>\n",
       "      <td>2016-12-21</td>\n",
       "      <td>07:26:09</td>\n",
       "      <td>70%</td>\n",
       "      <td>6:57</td>\n",
       "      <td>6029.0</td>\n",
       "    </tr>\n",
       "  </tbody>\n",
       "</table>\n",
       "</div>"
      ],
      "text/plain": [
       "     start_date start_time    end_date  end_time quality time_in_bed   steps\n",
       "226  2016-12-16   02:15:49  2016-12-16  08:58:40     64%        6:42  7307.0\n",
       "227  2016-12-17   01:12:41  2016-12-17  08:05:34     77%        6:52  8812.0\n",
       "228  2016-12-18   03:00:00  2016-12-18  10:18:10     78%        7:18  3239.0\n",
       "229  2016-12-20   01:19:04  2016-12-20  08:18:05     82%        6:59  4855.0\n",
       "230  2016-12-21   00:28:43  2016-12-21  07:26:09     70%        6:57  6029.0"
      ]
     },
     "execution_count": 551,
     "metadata": {},
     "output_type": "execute_result"
    }
   ],
   "source": [
    "df.tail()"
   ]
  },
  {
   "cell_type": "markdown",
   "metadata": {},
   "source": [
    "数据源从2016/1/22-2016/12/21共有231条数据，从左到右的栏依次为睡眠记录开始日期、开始时间、结束日期、结束时间、睡眠质量、床上时间和当天步数"
   ]
  },
  {
   "cell_type": "code",
   "execution_count": 552,
   "metadata": {
    "collapsed": false
   },
   "outputs": [
    {
     "data": {
      "text/plain": [
       "start_date      object\n",
       "start_time      object\n",
       "end_date        object\n",
       "end_time        object\n",
       "quality         object\n",
       "time_in_bed     object\n",
       "steps          float64\n",
       "dtype: object"
      ]
     },
     "execution_count": 552,
     "metadata": {},
     "output_type": "execute_result"
    }
   ],
   "source": [
    "df.dtypes"
   ]
  },
  {
   "cell_type": "markdown",
   "metadata": {},
   "source": [
    "导入的数据中前六列数据都是字符串类型，只有最后一列为float"
   ]
  },
  {
   "cell_type": "code",
   "execution_count": 553,
   "metadata": {
    "collapsed": false
   },
   "outputs": [
    {
     "data": {
      "text/plain": [
       "start_date     0\n",
       "start_time     0\n",
       "end_date       0\n",
       "end_time       0\n",
       "quality        0\n",
       "time_in_bed    0\n",
       "steps          1\n",
       "dtype: int64"
      ]
     },
     "execution_count": 553,
     "metadata": {},
     "output_type": "execute_result"
    }
   ],
   "source": [
    "df.isnull().sum()"
   ]
  },
  {
   "cell_type": "markdown",
   "metadata": {},
   "source": [
    "数据中只有steps一列中存在NULL值"
   ]
  },
  {
   "cell_type": "markdown",
   "metadata": {},
   "source": [
    "## Step2 数据清洗"
   ]
  },
  {
   "cell_type": "markdown",
   "metadata": {},
   "source": [
    "### 转换数据类型"
   ]
  },
  {
   "cell_type": "markdown",
   "metadata": {},
   "source": [
    "#### 转换日期的数据类型 "
   ]
  },
  {
   "cell_type": "markdown",
   "metadata": {},
   "source": [
    "start_date和end_date的日期数据是str数据类型，为便于进一步时间序列分析，需要将str类型的数据转换成datetime类型的数据"
   ]
  },
  {
   "cell_type": "code",
   "execution_count": 554,
   "metadata": {
    "collapsed": false
   },
   "outputs": [],
   "source": [
    "df['start_date'] = df['start_date'].str.replace(\"/\", '-')\n",
    "df['end_date'] = df['end_date'].str.replace(\"/\", '-')"
   ]
  },
  {
   "cell_type": "code",
   "execution_count": 555,
   "metadata": {
    "collapsed": false,
    "scrolled": true
   },
   "outputs": [],
   "source": [
    "df['start_date'] = [datetime.strptime(x, '%Y-%m-%d') for x in df['start_date']]\n",
    "df['end_date'] = [datetime.strptime(x, '%Y-%m-%d') for x in df['end_date']]"
   ]
  },
  {
   "cell_type": "code",
   "execution_count": 556,
   "metadata": {
    "collapsed": false
   },
   "outputs": [
    {
     "data": {
      "text/plain": [
       "pandas.tslib.Timestamp"
      ]
     },
     "execution_count": 556,
     "metadata": {},
     "output_type": "execute_result"
    }
   ],
   "source": [
    "type(df['start_date'][1])"
   ]
  },
  {
   "cell_type": "markdown",
   "metadata": {},
   "source": [
    "转换数据类型后，日期的数据类型由str变成了Timestamp"
   ]
  },
  {
   "cell_type": "markdown",
   "metadata": {},
   "source": [
    "#### quality数据转换类型"
   ]
  },
  {
   "cell_type": "markdown",
   "metadata": {},
   "source": [
    "将睡眠数据的%去掉，有str类型转换成int类型的数据"
   ]
  },
  {
   "cell_type": "code",
   "execution_count": 557,
   "metadata": {
    "collapsed": false
   },
   "outputs": [],
   "source": [
    "df['quality'] = df['quality'].str.replace('%', '')\n",
    "df['quality'] = df['quality'].str.replace(';', '')"
   ]
  },
  {
   "cell_type": "markdown",
   "metadata": {},
   "source": [
    "Q: 为什么是str.replace() ?"
   ]
  },
  {
   "cell_type": "code",
   "execution_count": 558,
   "metadata": {
    "collapsed": false
   },
   "outputs": [],
   "source": [
    "# df['quality'].str.extract('(\\d\\d)%') 利用正则表达式"
   ]
  },
  {
   "cell_type": "code",
   "execution_count": 559,
   "metadata": {
    "collapsed": false
   },
   "outputs": [],
   "source": [
    "#df['quality'].astype(int) # 为何没有转换成int类型数据？ 产生新的Series而不在原数据上修改"
   ]
  },
  {
   "cell_type": "code",
   "execution_count": 560,
   "metadata": {
    "collapsed": true
   },
   "outputs": [],
   "source": [
    "df['quality'] = df['quality'].astype(int)"
   ]
  },
  {
   "cell_type": "markdown",
   "metadata": {},
   "source": [
    "#### 转换time_in_bed数据格式"
   ]
  },
  {
   "cell_type": "markdown",
   "metadata": {},
   "source": [
    "原始的睡眠数据中睡眠时长的数据是以str类型的数据表示，需要将分钟转化成小时以转化成float类型的数据"
   ]
  },
  {
   "cell_type": "markdown",
   "metadata": {},
   "source": [
    "首先，以数据中的':'作为分割符合将数据拆分成hours和minutes"
   ]
  },
  {
   "cell_type": "code",
   "execution_count": 561,
   "metadata": {
    "collapsed": false
   },
   "outputs": [
    {
     "data": {
      "text/html": [
       "<div>\n",
       "<table border=\"1\" class=\"dataframe\">\n",
       "  <thead>\n",
       "    <tr style=\"text-align: right;\">\n",
       "      <th></th>\n",
       "      <th>hours</th>\n",
       "      <th>minutes</th>\n",
       "    </tr>\n",
       "  </thead>\n",
       "  <tbody>\n",
       "    <tr>\n",
       "      <th>0</th>\n",
       "      <td>6</td>\n",
       "      <td>30</td>\n",
       "    </tr>\n",
       "    <tr>\n",
       "      <th>1</th>\n",
       "      <td>6</td>\n",
       "      <td>32</td>\n",
       "    </tr>\n",
       "    <tr>\n",
       "      <th>2</th>\n",
       "      <td>6</td>\n",
       "      <td>05</td>\n",
       "    </tr>\n",
       "    <tr>\n",
       "      <th>3</th>\n",
       "      <td>6</td>\n",
       "      <td>03</td>\n",
       "    </tr>\n",
       "    <tr>\n",
       "      <th>4</th>\n",
       "      <td>6</td>\n",
       "      <td>56</td>\n",
       "    </tr>\n",
       "  </tbody>\n",
       "</table>\n",
       "</div>"
      ],
      "text/plain": [
       "  hours minutes\n",
       "0     6      30\n",
       "1     6      32\n",
       "2     6      05\n",
       "3     6      03\n",
       "4     6      56"
      ]
     },
     "execution_count": 561,
     "metadata": {},
     "output_type": "execute_result"
    }
   ],
   "source": [
    "time_bed = pd.DataFrame((x.split(':') for x in df['time_in_bed']), columns=['hours','minutes'])\n",
    "time_bed.head()"
   ]
  },
  {
   "cell_type": "code",
   "execution_count": 562,
   "metadata": {
    "collapsed": false
   },
   "outputs": [],
   "source": [
    "df['time_in_bed_minute'] = time_bed['minutes']\n",
    "df['time_in_bed_hour'] = time_bed['hours']"
   ]
  },
  {
   "cell_type": "code",
   "execution_count": 563,
   "metadata": {
    "collapsed": false
   },
   "outputs": [
    {
     "data": {
      "text/html": [
       "<div>\n",
       "<table border=\"1\" class=\"dataframe\">\n",
       "  <thead>\n",
       "    <tr style=\"text-align: right;\">\n",
       "      <th></th>\n",
       "      <th>start_date</th>\n",
       "      <th>start_time</th>\n",
       "      <th>end_date</th>\n",
       "      <th>end_time</th>\n",
       "      <th>quality</th>\n",
       "      <th>time_in_bed</th>\n",
       "      <th>steps</th>\n",
       "      <th>time_in_bed_minute</th>\n",
       "      <th>time_in_bed_hour</th>\n",
       "    </tr>\n",
       "  </thead>\n",
       "  <tbody>\n",
       "    <tr>\n",
       "      <th>226</th>\n",
       "      <td>2016-12-16</td>\n",
       "      <td>02:15:49</td>\n",
       "      <td>2016-12-16</td>\n",
       "      <td>08:58:40</td>\n",
       "      <td>64</td>\n",
       "      <td>6:42</td>\n",
       "      <td>7307.0</td>\n",
       "      <td>42</td>\n",
       "      <td>6</td>\n",
       "    </tr>\n",
       "    <tr>\n",
       "      <th>227</th>\n",
       "      <td>2016-12-17</td>\n",
       "      <td>01:12:41</td>\n",
       "      <td>2016-12-17</td>\n",
       "      <td>08:05:34</td>\n",
       "      <td>77</td>\n",
       "      <td>6:52</td>\n",
       "      <td>8812.0</td>\n",
       "      <td>52</td>\n",
       "      <td>6</td>\n",
       "    </tr>\n",
       "    <tr>\n",
       "      <th>228</th>\n",
       "      <td>2016-12-18</td>\n",
       "      <td>03:00:00</td>\n",
       "      <td>2016-12-18</td>\n",
       "      <td>10:18:10</td>\n",
       "      <td>78</td>\n",
       "      <td>7:18</td>\n",
       "      <td>3239.0</td>\n",
       "      <td>18</td>\n",
       "      <td>7</td>\n",
       "    </tr>\n",
       "    <tr>\n",
       "      <th>229</th>\n",
       "      <td>2016-12-20</td>\n",
       "      <td>01:19:04</td>\n",
       "      <td>2016-12-20</td>\n",
       "      <td>08:18:05</td>\n",
       "      <td>82</td>\n",
       "      <td>6:59</td>\n",
       "      <td>4855.0</td>\n",
       "      <td>59</td>\n",
       "      <td>6</td>\n",
       "    </tr>\n",
       "    <tr>\n",
       "      <th>230</th>\n",
       "      <td>2016-12-21</td>\n",
       "      <td>00:28:43</td>\n",
       "      <td>2016-12-21</td>\n",
       "      <td>07:26:09</td>\n",
       "      <td>70</td>\n",
       "      <td>6:57</td>\n",
       "      <td>6029.0</td>\n",
       "      <td>57</td>\n",
       "      <td>6</td>\n",
       "    </tr>\n",
       "  </tbody>\n",
       "</table>\n",
       "</div>"
      ],
      "text/plain": [
       "    start_date start_time   end_date  end_time  quality time_in_bed   steps  \\\n",
       "226 2016-12-16   02:15:49 2016-12-16  08:58:40       64        6:42  7307.0   \n",
       "227 2016-12-17   01:12:41 2016-12-17  08:05:34       77        6:52  8812.0   \n",
       "228 2016-12-18   03:00:00 2016-12-18  10:18:10       78        7:18  3239.0   \n",
       "229 2016-12-20   01:19:04 2016-12-20  08:18:05       82        6:59  4855.0   \n",
       "230 2016-12-21   00:28:43 2016-12-21  07:26:09       70        6:57  6029.0   \n",
       "\n",
       "    time_in_bed_minute time_in_bed_hour  \n",
       "226                 42                6  \n",
       "227                 52                6  \n",
       "228                 18                7  \n",
       "229                 59                6  \n",
       "230                 57                6  "
      ]
     },
     "execution_count": 563,
     "metadata": {},
     "output_type": "execute_result"
    }
   ],
   "source": [
    "df.tail()"
   ]
  },
  {
   "cell_type": "markdown",
   "metadata": {},
   "source": [
    "将hours和minutes转换成int类型数据"
   ]
  },
  {
   "cell_type": "code",
   "execution_count": 564,
   "metadata": {
    "collapsed": false
   },
   "outputs": [],
   "source": [
    "df['time_in_bed_minute'] = df['time_in_bed_minute'].str.replace(';', '')"
   ]
  },
  {
   "cell_type": "markdown",
   "metadata": {},
   "source": [
    "Q: 为什么会报错？"
   ]
  },
  {
   "cell_type": "code",
   "execution_count": 565,
   "metadata": {
    "collapsed": false,
    "scrolled": true
   },
   "outputs": [
    {
     "name": "stderr",
     "output_type": "stream",
     "text": [
      "/Users/saxon/anaconda/lib/python3.5/site-packages/ipykernel/__main__.py:3: SettingWithCopyWarning: \n",
      "A value is trying to be set on a copy of a slice from a DataFrame\n",
      "\n",
      "See the caveats in the documentation: http://pandas.pydata.org/pandas-docs/stable/indexing.html#indexing-view-versus-copy\n",
      "  app.launch_new_instance()\n"
     ]
    }
   ],
   "source": [
    "for i in df['time_in_bed_hour'].index:\n",
    "    if df['time_in_bed_hour'][i] == '':\n",
    "        df['time_in_bed_hour'][i] = '0' "
   ]
  },
  {
   "cell_type": "code",
   "execution_count": 566,
   "metadata": {
    "collapsed": false
   },
   "outputs": [],
   "source": [
    "df['time_in_bed_minute'] = df['time_in_bed_minute'].astype(int)\n",
    "df['time_in_bed_hour'] = df['time_in_bed_hour'].astype(int)"
   ]
  },
  {
   "cell_type": "markdown",
   "metadata": {},
   "source": [
    "合并数据，得到float类型的time_in_bed数据，即睡眠时长"
   ]
  },
  {
   "cell_type": "code",
   "execution_count": 567,
   "metadata": {
    "collapsed": false
   },
   "outputs": [],
   "source": [
    "df['time_in_bed_minute'] = df['time_in_bed_minute']/60"
   ]
  },
  {
   "cell_type": "code",
   "execution_count": 569,
   "metadata": {
    "collapsed": false
   },
   "outputs": [],
   "source": [
    "df['bed_time'] = df['time_in_bed_minute'] + df['time_in_bed_hour']"
   ]
  },
  {
   "cell_type": "markdown",
   "metadata": {},
   "source": [
    "删除用于数据清洗时辅助的两列数据"
   ]
  },
  {
   "cell_type": "code",
   "execution_count": 571,
   "metadata": {
    "collapsed": false
   },
   "outputs": [],
   "source": [
    "df = df.drop('time_in_bed_minute', axis=1)\n",
    "df = df.drop('time_in_bed_hour', axis=1)"
   ]
  },
  {
   "cell_type": "code",
   "execution_count": 613,
   "metadata": {
    "collapsed": false
   },
   "outputs": [
    {
     "data": {
      "text/plain": [
       "start_date        datetime64[ns]\n",
       "start_time                object\n",
       "end_date          datetime64[ns]\n",
       "end_time                  object\n",
       "quality                    int64\n",
       "time_in_bed               object\n",
       "steps                    float64\n",
       "bed_time                 float64\n",
       "start_num_time           float64\n",
       "dtype: object"
      ]
     },
     "execution_count": 613,
     "metadata": {},
     "output_type": "execute_result"
    }
   ],
   "source": [
    "df.dtypes"
   ]
  },
  {
   "cell_type": "markdown",
   "metadata": {},
   "source": [
    "#### 转换start_time数据类型"
   ]
  },
  {
   "cell_type": "markdown",
   "metadata": {},
   "source": [
    "将入睡时间转换成float类型的数据"
   ]
  },
  {
   "cell_type": "code",
   "execution_count": 573,
   "metadata": {
    "collapsed": false
   },
   "outputs": [
    {
     "data": {
      "text/html": [
       "<div>\n",
       "<table border=\"1\" class=\"dataframe\">\n",
       "  <thead>\n",
       "    <tr style=\"text-align: right;\">\n",
       "      <th></th>\n",
       "      <th>start_hours</th>\n",
       "      <th>start_minutes</th>\n",
       "      <th>start_seconds</th>\n",
       "    </tr>\n",
       "  </thead>\n",
       "  <tbody>\n",
       "    <tr>\n",
       "      <th>0</th>\n",
       "      <td>00</td>\n",
       "      <td>58</td>\n",
       "      <td>40</td>\n",
       "    </tr>\n",
       "    <tr>\n",
       "      <th>1</th>\n",
       "      <td>00</td>\n",
       "      <td>58</td>\n",
       "      <td>09</td>\n",
       "    </tr>\n",
       "    <tr>\n",
       "      <th>2</th>\n",
       "      <td>01</td>\n",
       "      <td>25</td>\n",
       "      <td>00</td>\n",
       "    </tr>\n",
       "    <tr>\n",
       "      <th>3</th>\n",
       "      <td>01</td>\n",
       "      <td>28</td>\n",
       "      <td>17</td>\n",
       "    </tr>\n",
       "    <tr>\n",
       "      <th>4</th>\n",
       "      <td>01</td>\n",
       "      <td>14</td>\n",
       "      <td>10</td>\n",
       "    </tr>\n",
       "  </tbody>\n",
       "</table>\n",
       "</div>"
      ],
      "text/plain": [
       "  start_hours start_minutes start_seconds\n",
       "0          00            58            40\n",
       "1          00            58            09\n",
       "2          01            25            00\n",
       "3          01            28            17\n",
       "4          01            14            10"
      ]
     },
     "execution_count": 573,
     "metadata": {},
     "output_type": "execute_result"
    }
   ],
   "source": [
    "start_time = pd.DataFrame((x.split(':') for x in df['start_time']), columns=['start_hours','start_minutes','start_seconds'])\n",
    "start_time.head()"
   ]
  },
  {
   "cell_type": "code",
   "execution_count": 574,
   "metadata": {
    "collapsed": true
   },
   "outputs": [],
   "source": [
    "df['start_minute'] = start_time['start_minutes']\n",
    "df['start_hour'] = start_time['start_hours']\n",
    "df['start_second'] = start_time['start_seconds']"
   ]
  },
  {
   "cell_type": "code",
   "execution_count": 575,
   "metadata": {
    "collapsed": false
   },
   "outputs": [],
   "source": [
    "df['start_minute'] = df['start_minute'].astype(int)\n",
    "df['start_hour'] = df['start_hour'].astype(int)\n",
    "df['start_second'] = df['start_second'].astype(int)"
   ]
  },
  {
   "cell_type": "markdown",
   "metadata": {},
   "source": [
    "合并数据为start_num_time"
   ]
  },
  {
   "cell_type": "code",
   "execution_count": 576,
   "metadata": {
    "collapsed": true
   },
   "outputs": [],
   "source": [
    "df['start_minute'] = df['start_minute']/60"
   ]
  },
  {
   "cell_type": "code",
   "execution_count": 577,
   "metadata": {
    "collapsed": true
   },
   "outputs": [],
   "source": [
    "df['start_num_time'] = df['start_hour'] + df['start_minute']"
   ]
  },
  {
   "cell_type": "markdown",
   "metadata": {},
   "source": [
    "删除转换过程中辅助的数据列"
   ]
  },
  {
   "cell_type": "code",
   "execution_count": 578,
   "metadata": {
    "collapsed": false
   },
   "outputs": [],
   "source": [
    "df = df.drop('start_hour', axis=1)\n",
    "df = df.drop('start_minute', axis=1)\n",
    "df = df.drop('start_second', axis=1)"
   ]
  },
  {
   "cell_type": "code",
   "execution_count": 579,
   "metadata": {
    "collapsed": false
   },
   "outputs": [
    {
     "data": {
      "text/html": [
       "<div>\n",
       "<table border=\"1\" class=\"dataframe\">\n",
       "  <thead>\n",
       "    <tr style=\"text-align: right;\">\n",
       "      <th></th>\n",
       "      <th>start_date</th>\n",
       "      <th>start_time</th>\n",
       "      <th>end_date</th>\n",
       "      <th>end_time</th>\n",
       "      <th>quality</th>\n",
       "      <th>time_in_bed</th>\n",
       "      <th>steps</th>\n",
       "      <th>bed_time</th>\n",
       "      <th>start_num_time</th>\n",
       "    </tr>\n",
       "  </thead>\n",
       "  <tbody>\n",
       "    <tr>\n",
       "      <th>0</th>\n",
       "      <td>2016-01-22</td>\n",
       "      <td>00:58:40</td>\n",
       "      <td>2016-01-22</td>\n",
       "      <td>07:28:55</td>\n",
       "      <td>76</td>\n",
       "      <td>6:30</td>\n",
       "      <td>108.0</td>\n",
       "      <td>6.500000</td>\n",
       "      <td>0.966667</td>\n",
       "    </tr>\n",
       "    <tr>\n",
       "      <th>1</th>\n",
       "      <td>2016-01-23</td>\n",
       "      <td>00:58:09</td>\n",
       "      <td>2016-01-23</td>\n",
       "      <td>07:30:18</td>\n",
       "      <td>75</td>\n",
       "      <td>6:32</td>\n",
       "      <td>95.0</td>\n",
       "      <td>6.533333</td>\n",
       "      <td>0.966667</td>\n",
       "    </tr>\n",
       "    <tr>\n",
       "      <th>2</th>\n",
       "      <td>2016-01-24</td>\n",
       "      <td>01:25:00</td>\n",
       "      <td>2016-01-24</td>\n",
       "      <td>07:30:41</td>\n",
       "      <td>73</td>\n",
       "      <td>6:05</td>\n",
       "      <td>370.0</td>\n",
       "      <td>6.083333</td>\n",
       "      <td>1.416667</td>\n",
       "    </tr>\n",
       "    <tr>\n",
       "      <th>3</th>\n",
       "      <td>2016-01-25</td>\n",
       "      <td>01:28:17</td>\n",
       "      <td>2016-01-25</td>\n",
       "      <td>07:32:07</td>\n",
       "      <td>55</td>\n",
       "      <td>6:03</td>\n",
       "      <td>0.0</td>\n",
       "      <td>6.050000</td>\n",
       "      <td>1.466667</td>\n",
       "    </tr>\n",
       "    <tr>\n",
       "      <th>4</th>\n",
       "      <td>2016-01-27</td>\n",
       "      <td>01:14:10</td>\n",
       "      <td>2016-01-27</td>\n",
       "      <td>08:10:41</td>\n",
       "      <td>78</td>\n",
       "      <td>6:56</td>\n",
       "      <td>1110.0</td>\n",
       "      <td>6.933333</td>\n",
       "      <td>1.233333</td>\n",
       "    </tr>\n",
       "  </tbody>\n",
       "</table>\n",
       "</div>"
      ],
      "text/plain": [
       "  start_date start_time   end_date  end_time  quality time_in_bed   steps  \\\n",
       "0 2016-01-22   00:58:40 2016-01-22  07:28:55       76        6:30   108.0   \n",
       "1 2016-01-23   00:58:09 2016-01-23  07:30:18       75        6:32    95.0   \n",
       "2 2016-01-24   01:25:00 2016-01-24  07:30:41       73        6:05   370.0   \n",
       "3 2016-01-25   01:28:17 2016-01-25  07:32:07       55        6:03     0.0   \n",
       "4 2016-01-27   01:14:10 2016-01-27  08:10:41       78        6:56  1110.0   \n",
       "\n",
       "   bed_time  start_num_time  \n",
       "0  6.500000        0.966667  \n",
       "1  6.533333        0.966667  \n",
       "2  6.083333        1.416667  \n",
       "3  6.050000        1.466667  \n",
       "4  6.933333        1.233333  "
      ]
     },
     "execution_count": 579,
     "metadata": {},
     "output_type": "execute_result"
    }
   ],
   "source": [
    "df.head()"
   ]
  },
  {
   "cell_type": "markdown",
   "metadata": {},
   "source": [
    "为了便于之后的进一步分析，将入睡时间在24点之前的数据统一减去24转换为负数"
   ]
  },
  {
   "cell_type": "markdown",
   "metadata": {},
   "source": [
    "Q: 如何修改特定行的值？"
   ]
  },
  {
   "cell_type": "code",
   "execution_count": 580,
   "metadata": {
    "collapsed": true
   },
   "outputs": [],
   "source": [
    "# 方法一：会报warning，但结果正确\n",
    "# right = df[df['start_num_time'] > 21]['start_num_time'] - 24\n",
    "# for i in df[df['start_num_time'] > 21].index:\n",
    "#     df['start_num_time'][i] = right[i]"
   ]
  },
  {
   "cell_type": "code",
   "execution_count": 581,
   "metadata": {
    "collapsed": true
   },
   "outputs": [],
   "source": [
    "# 方法二：用iloc\n",
    "df.iloc[df[df['start_num_time'] > 21].index, -1] = df[df['start_num_time'] > 21]['start_num_time'] - 24"
   ]
  },
  {
   "cell_type": "markdown",
   "metadata": {},
   "source": [
    "### 清除异常数据"
   ]
  },
  {
   "cell_type": "markdown",
   "metadata": {},
   "source": [
    "转换完数据类型之后，需要进一步的数据清洗，即将数据中明显异常的数据清除"
   ]
  },
  {
   "cell_type": "markdown",
   "metadata": {},
   "source": [
    "#### 删除quality异常数据"
   ]
  },
  {
   "cell_type": "markdown",
   "metadata": {},
   "source": [
    "平时的睡眠记录中，经常有测试软件时的数据记录，并非真实的睡眠情况，因此将睡眠质量不大于10%的数据剔除"
   ]
  },
  {
   "cell_type": "code",
   "execution_count": 582,
   "metadata": {
    "collapsed": true
   },
   "outputs": [],
   "source": [
    "for i in range(df['quality'].shape[0]):\n",
    "    if df['quality'][i] <= 10:\n",
    "        df = df.drop(i)"
   ]
  },
  {
   "cell_type": "code",
   "execution_count": 583,
   "metadata": {
    "collapsed": true
   },
   "outputs": [],
   "source": [
    "df = df.reset_index(drop=True)"
   ]
  },
  {
   "cell_type": "markdown",
   "metadata": {},
   "source": [
    "删除了异常数据之后需要将index重置，以免之后的数据整理工作出现错误"
   ]
  },
  {
   "cell_type": "markdown",
   "metadata": {},
   "source": [
    "#### 删除start_num_time异常的数据"
   ]
  },
  {
   "cell_type": "markdown",
   "metadata": {},
   "source": [
    "根据对自己睡眠状况的了解，入睡时间在早上6点之后晚上9点之前的数据属于极少见的特殊情况，根据分析目的我们需要分析的是常规情况下的整体数据规律，所以将其清楚"
   ]
  },
  {
   "cell_type": "code",
   "execution_count": 584,
   "metadata": {
    "collapsed": false
   },
   "outputs": [],
   "source": [
    "# df['start_num_time'].loc(7)"
   ]
  },
  {
   "cell_type": "markdown",
   "metadata": {},
   "source": [
    "特殊情况下的入睡时间数据，共6项异常数据"
   ]
  },
  {
   "cell_type": "code",
   "execution_count": 585,
   "metadata": {
    "collapsed": false
   },
   "outputs": [
    {
     "name": "stdout",
     "output_type": "stream",
     "text": [
      "7.0\n",
      "15.8666666667\n",
      "12.35\n",
      "14.1666666667\n",
      "14.3666666667\n",
      "19.0\n"
     ]
    }
   ],
   "source": [
    "for i in df['start_num_time']:\n",
    "    if i < 21 and i >6:\n",
    "        print(i)"
   ]
  },
  {
   "cell_type": "markdown",
   "metadata": {},
   "source": [
    "Q: 如何选取入睡时间为7的特定行数据 ？"
   ]
  },
  {
   "cell_type": "code",
   "execution_count": 586,
   "metadata": {
    "collapsed": false
   },
   "outputs": [],
   "source": [
    "# df[df['start_num_time'] == 7]['start_date']"
   ]
  },
  {
   "cell_type": "code",
   "execution_count": 587,
   "metadata": {
    "collapsed": false
   },
   "outputs": [],
   "source": [
    "for i in range(df['start_num_time'].shape[0]):\n",
    "    if int(df['start_num_time'][i]) < 21 and int(df['start_num_time'][i]) > 6:\n",
    "        df = df.drop(i)"
   ]
  },
  {
   "cell_type": "code",
   "execution_count": 588,
   "metadata": {
    "collapsed": true
   },
   "outputs": [],
   "source": [
    "df = df.reset_index(drop=True)"
   ]
  },
  {
   "cell_type": "code",
   "execution_count": 589,
   "metadata": {
    "collapsed": false
   },
   "outputs": [],
   "source": [
    "for i in df['start_num_time']:\n",
    "    if i < 21 and i >6:\n",
    "        print(i)"
   ]
  },
  {
   "cell_type": "markdown",
   "metadata": {},
   "source": [
    "#### 删除bed_time异常数据"
   ]
  },
  {
   "cell_type": "code",
   "execution_count": 590,
   "metadata": {
    "collapsed": true
   },
   "outputs": [],
   "source": [
    "for i in range(df['bed_time'].shape[0]):\n",
    "    if int(df['bed_time'][i]) < 3:\n",
    "        df = df.drop(i)"
   ]
  },
  {
   "cell_type": "code",
   "execution_count": 591,
   "metadata": {
    "collapsed": true
   },
   "outputs": [],
   "source": [
    "df = df.reset_index(drop=True)"
   ]
  },
  {
   "cell_type": "markdown",
   "metadata": {},
   "source": [
    "同理，将睡眠数据中，睡眠时间小于三小时的特殊记录删除"
   ]
  },
  {
   "cell_type": "markdown",
   "metadata": {
    "collapsed": true
   },
   "source": [
    "## Step 3 描述分析"
   ]
  },
  {
   "cell_type": "markdown",
   "metadata": {},
   "source": [
    "描述分析是最基本的一种分析统计方法，分为两大部分：数据描述和指标统计。数据描述即用来对数据进行基本情况的刻画，包括数据总数、时间跨度等方面；指标统计则是用来分析实际情况的数据指标，可以粗略分为变化、分布、对比、预测四大类。"
   ]
  },
  {
   "cell_type": "markdown",
   "metadata": {},
   "source": [
    "### 数据描述"
   ]
  },
  {
   "cell_type": "markdown",
   "metadata": {},
   "source": [
    "经过数据清洗后的数据共有216条，时间跨度从2016年1月22日到2016年12月21日共334天，使用该App的频率约为0.65\n",
    "\n",
    "平均的入睡时间是1:05，平均睡眠时长为6小时45分钟，平均睡眠质量为69.0%，修正后的每日平均步数为7950步"
   ]
  },
  {
   "cell_type": "code",
   "execution_count": 592,
   "metadata": {
    "collapsed": false,
    "scrolled": true
   },
   "outputs": [
    {
     "data": {
      "text/html": [
       "<div>\n",
       "<table border=\"1\" class=\"dataframe\">\n",
       "  <thead>\n",
       "    <tr style=\"text-align: right;\">\n",
       "      <th></th>\n",
       "      <th>quality</th>\n",
       "      <th>steps</th>\n",
       "      <th>bed_time</th>\n",
       "      <th>start_num_time</th>\n",
       "    </tr>\n",
       "  </thead>\n",
       "  <tbody>\n",
       "    <tr>\n",
       "      <th>count</th>\n",
       "      <td>216.000000</td>\n",
       "      <td>216.000000</td>\n",
       "      <td>216.000000</td>\n",
       "      <td>216.000000</td>\n",
       "    </tr>\n",
       "    <tr>\n",
       "      <th>mean</th>\n",
       "      <td>68.958333</td>\n",
       "      <td>7840.259259</td>\n",
       "      <td>6.755170</td>\n",
       "      <td>1.096914</td>\n",
       "    </tr>\n",
       "    <tr>\n",
       "      <th>std</th>\n",
       "      <td>12.245668</td>\n",
       "      <td>4328.477827</td>\n",
       "      <td>0.771820</td>\n",
       "      <td>1.054496</td>\n",
       "    </tr>\n",
       "    <tr>\n",
       "      <th>min</th>\n",
       "      <td>27.000000</td>\n",
       "      <td>0.000000</td>\n",
       "      <td>3.283333</td>\n",
       "      <td>-2.900000</td>\n",
       "    </tr>\n",
       "    <tr>\n",
       "      <th>25%</th>\n",
       "      <td>61.000000</td>\n",
       "      <td>5347.750000</td>\n",
       "      <td>6.383333</td>\n",
       "      <td>0.466667</td>\n",
       "    </tr>\n",
       "    <tr>\n",
       "      <th>50%</th>\n",
       "      <td>70.000000</td>\n",
       "      <td>7387.000000</td>\n",
       "      <td>6.833333</td>\n",
       "      <td>1.083333</td>\n",
       "    </tr>\n",
       "    <tr>\n",
       "      <th>75%</th>\n",
       "      <td>77.000000</td>\n",
       "      <td>9296.750000</td>\n",
       "      <td>7.187500</td>\n",
       "      <td>1.600000</td>\n",
       "    </tr>\n",
       "    <tr>\n",
       "      <th>max</th>\n",
       "      <td>96.000000</td>\n",
       "      <td>25459.000000</td>\n",
       "      <td>8.900000</td>\n",
       "      <td>4.350000</td>\n",
       "    </tr>\n",
       "  </tbody>\n",
       "</table>\n",
       "</div>"
      ],
      "text/plain": [
       "          quality         steps    bed_time  start_num_time\n",
       "count  216.000000    216.000000  216.000000      216.000000\n",
       "mean    68.958333   7840.259259    6.755170        1.096914\n",
       "std     12.245668   4328.477827    0.771820        1.054496\n",
       "min     27.000000      0.000000    3.283333       -2.900000\n",
       "25%     61.000000   5347.750000    6.383333        0.466667\n",
       "50%     70.000000   7387.000000    6.833333        1.083333\n",
       "75%     77.000000   9296.750000    7.187500        1.600000\n",
       "max     96.000000  25459.000000    8.900000        4.350000"
      ]
     },
     "execution_count": 592,
     "metadata": {},
     "output_type": "execute_result"
    }
   ],
   "source": [
    "df.describe()"
   ]
  },
  {
   "cell_type": "code",
   "execution_count": 620,
   "metadata": {
    "collapsed": false
   },
   "outputs": [
    {
     "data": {
      "text/plain": [
       "7950.68544600939"
      ]
     },
     "execution_count": 620,
     "metadata": {},
     "output_type": "execute_result"
    }
   ],
   "source": [
    "step = []\n",
    "for i in df['steps']:\n",
    "    if i != 0:\n",
    "        step.append(i)\n",
    "np.mean(step)"
   ]
  },
  {
   "cell_type": "code",
   "execution_count": 593,
   "metadata": {
    "collapsed": false
   },
   "outputs": [
    {
     "data": {
      "text/html": [
       "<div>\n",
       "<table border=\"1\" class=\"dataframe\">\n",
       "  <thead>\n",
       "    <tr style=\"text-align: right;\">\n",
       "      <th></th>\n",
       "      <th>start_date</th>\n",
       "      <th>start_time</th>\n",
       "      <th>end_date</th>\n",
       "      <th>end_time</th>\n",
       "      <th>quality</th>\n",
       "      <th>time_in_bed</th>\n",
       "      <th>steps</th>\n",
       "      <th>bed_time</th>\n",
       "      <th>start_num_time</th>\n",
       "    </tr>\n",
       "  </thead>\n",
       "  <tbody>\n",
       "    <tr>\n",
       "      <th>0</th>\n",
       "      <td>2016-01-22</td>\n",
       "      <td>00:58:40</td>\n",
       "      <td>2016-01-22</td>\n",
       "      <td>07:28:55</td>\n",
       "      <td>76</td>\n",
       "      <td>6:30</td>\n",
       "      <td>108.0</td>\n",
       "      <td>6.500000</td>\n",
       "      <td>0.966667</td>\n",
       "    </tr>\n",
       "    <tr>\n",
       "      <th>1</th>\n",
       "      <td>2016-01-23</td>\n",
       "      <td>00:58:09</td>\n",
       "      <td>2016-01-23</td>\n",
       "      <td>07:30:18</td>\n",
       "      <td>75</td>\n",
       "      <td>6:32</td>\n",
       "      <td>95.0</td>\n",
       "      <td>6.533333</td>\n",
       "      <td>0.966667</td>\n",
       "    </tr>\n",
       "    <tr>\n",
       "      <th>2</th>\n",
       "      <td>2016-01-24</td>\n",
       "      <td>01:25:00</td>\n",
       "      <td>2016-01-24</td>\n",
       "      <td>07:30:41</td>\n",
       "      <td>73</td>\n",
       "      <td>6:05</td>\n",
       "      <td>370.0</td>\n",
       "      <td>6.083333</td>\n",
       "      <td>1.416667</td>\n",
       "    </tr>\n",
       "    <tr>\n",
       "      <th>3</th>\n",
       "      <td>2016-01-25</td>\n",
       "      <td>01:28:17</td>\n",
       "      <td>2016-01-25</td>\n",
       "      <td>07:32:07</td>\n",
       "      <td>55</td>\n",
       "      <td>6:03</td>\n",
       "      <td>0.0</td>\n",
       "      <td>6.050000</td>\n",
       "      <td>1.466667</td>\n",
       "    </tr>\n",
       "    <tr>\n",
       "      <th>4</th>\n",
       "      <td>2016-01-27</td>\n",
       "      <td>01:14:10</td>\n",
       "      <td>2016-01-27</td>\n",
       "      <td>08:10:41</td>\n",
       "      <td>78</td>\n",
       "      <td>6:56</td>\n",
       "      <td>1110.0</td>\n",
       "      <td>6.933333</td>\n",
       "      <td>1.233333</td>\n",
       "    </tr>\n",
       "  </tbody>\n",
       "</table>\n",
       "</div>"
      ],
      "text/plain": [
       "  start_date start_time   end_date  end_time  quality time_in_bed   steps  \\\n",
       "0 2016-01-22   00:58:40 2016-01-22  07:28:55       76        6:30   108.0   \n",
       "1 2016-01-23   00:58:09 2016-01-23  07:30:18       75        6:32    95.0   \n",
       "2 2016-01-24   01:25:00 2016-01-24  07:30:41       73        6:05   370.0   \n",
       "3 2016-01-25   01:28:17 2016-01-25  07:32:07       55        6:03     0.0   \n",
       "4 2016-01-27   01:14:10 2016-01-27  08:10:41       78        6:56  1110.0   \n",
       "\n",
       "   bed_time  start_num_time  \n",
       "0  6.500000        0.966667  \n",
       "1  6.533333        0.966667  \n",
       "2  6.083333        1.416667  \n",
       "3  6.050000        1.466667  \n",
       "4  6.933333        1.233333  "
      ]
     },
     "execution_count": 593,
     "metadata": {},
     "output_type": "execute_result"
    }
   ],
   "source": [
    "df.head()"
   ]
  },
  {
   "cell_type": "code",
   "execution_count": 594,
   "metadata": {
    "collapsed": false
   },
   "outputs": [
    {
     "data": {
      "text/html": [
       "<div>\n",
       "<table border=\"1\" class=\"dataframe\">\n",
       "  <thead>\n",
       "    <tr style=\"text-align: right;\">\n",
       "      <th></th>\n",
       "      <th>start_date</th>\n",
       "      <th>start_time</th>\n",
       "      <th>end_date</th>\n",
       "      <th>end_time</th>\n",
       "      <th>quality</th>\n",
       "      <th>time_in_bed</th>\n",
       "      <th>steps</th>\n",
       "      <th>bed_time</th>\n",
       "      <th>start_num_time</th>\n",
       "    </tr>\n",
       "  </thead>\n",
       "  <tbody>\n",
       "    <tr>\n",
       "      <th>211</th>\n",
       "      <td>2016-12-16</td>\n",
       "      <td>02:15:49</td>\n",
       "      <td>2016-12-16</td>\n",
       "      <td>08:58:40</td>\n",
       "      <td>64</td>\n",
       "      <td>6:42</td>\n",
       "      <td>7307.0</td>\n",
       "      <td>6.700000</td>\n",
       "      <td>2.250000</td>\n",
       "    </tr>\n",
       "    <tr>\n",
       "      <th>212</th>\n",
       "      <td>2016-12-17</td>\n",
       "      <td>01:12:41</td>\n",
       "      <td>2016-12-17</td>\n",
       "      <td>08:05:34</td>\n",
       "      <td>77</td>\n",
       "      <td>6:52</td>\n",
       "      <td>8812.0</td>\n",
       "      <td>6.866667</td>\n",
       "      <td>1.200000</td>\n",
       "    </tr>\n",
       "    <tr>\n",
       "      <th>213</th>\n",
       "      <td>2016-12-18</td>\n",
       "      <td>03:00:00</td>\n",
       "      <td>2016-12-18</td>\n",
       "      <td>10:18:10</td>\n",
       "      <td>78</td>\n",
       "      <td>7:18</td>\n",
       "      <td>3239.0</td>\n",
       "      <td>7.300000</td>\n",
       "      <td>3.000000</td>\n",
       "    </tr>\n",
       "    <tr>\n",
       "      <th>214</th>\n",
       "      <td>2016-12-20</td>\n",
       "      <td>01:19:04</td>\n",
       "      <td>2016-12-20</td>\n",
       "      <td>08:18:05</td>\n",
       "      <td>82</td>\n",
       "      <td>6:59</td>\n",
       "      <td>4855.0</td>\n",
       "      <td>6.983333</td>\n",
       "      <td>1.316667</td>\n",
       "    </tr>\n",
       "    <tr>\n",
       "      <th>215</th>\n",
       "      <td>2016-12-21</td>\n",
       "      <td>00:28:43</td>\n",
       "      <td>2016-12-21</td>\n",
       "      <td>07:26:09</td>\n",
       "      <td>70</td>\n",
       "      <td>6:57</td>\n",
       "      <td>6029.0</td>\n",
       "      <td>6.950000</td>\n",
       "      <td>0.466667</td>\n",
       "    </tr>\n",
       "  </tbody>\n",
       "</table>\n",
       "</div>"
      ],
      "text/plain": [
       "    start_date start_time   end_date  end_time  quality time_in_bed   steps  \\\n",
       "211 2016-12-16   02:15:49 2016-12-16  08:58:40       64        6:42  7307.0   \n",
       "212 2016-12-17   01:12:41 2016-12-17  08:05:34       77        6:52  8812.0   \n",
       "213 2016-12-18   03:00:00 2016-12-18  10:18:10       78        7:18  3239.0   \n",
       "214 2016-12-20   01:19:04 2016-12-20  08:18:05       82        6:59  4855.0   \n",
       "215 2016-12-21   00:28:43 2016-12-21  07:26:09       70        6:57  6029.0   \n",
       "\n",
       "     bed_time  start_num_time  \n",
       "211  6.700000        2.250000  \n",
       "212  6.866667        1.200000  \n",
       "213  7.300000        3.000000  \n",
       "214  6.983333        1.316667  \n",
       "215  6.950000        0.466667  "
      ]
     },
     "execution_count": 594,
     "metadata": {},
     "output_type": "execute_result"
    }
   ],
   "source": [
    "df.tail()"
   ]
  },
  {
   "cell_type": "markdown",
   "metadata": {},
   "source": [
    "在所有的睡眠数据中，睡眠最早的时间是21:06，最晚的睡眠时间是4:20"
   ]
  },
  {
   "cell_type": "code",
   "execution_count": 595,
   "metadata": {
    "collapsed": false
   },
   "outputs": [],
   "source": [
    "def convert_time(x):\n",
    "    h = int(x)\n",
    "    m = (x-h) * 60\n",
    "    if h >= 0:\n",
    "        return str(h) + \":\" + str(int(m))\n",
    "    else:\n",
    "        a = int(x+24)\n",
    "        b = (24+x-a) * 60\n",
    "        return str(a) + \":\" + str(int(b))"
   ]
  },
  {
   "cell_type": "code",
   "execution_count": 596,
   "metadata": {
    "collapsed": false,
    "scrolled": true
   },
   "outputs": [
    {
     "data": {
      "text/plain": [
       "'21:6'"
      ]
     },
     "execution_count": 596,
     "metadata": {},
     "output_type": "execute_result"
    }
   ],
   "source": [
    "convert_time(df['start_num_time'].min())"
   ]
  },
  {
   "cell_type": "code",
   "execution_count": 597,
   "metadata": {
    "collapsed": false,
    "scrolled": true
   },
   "outputs": [
    {
     "data": {
      "text/plain": [
       "'4:20'"
      ]
     },
     "execution_count": 597,
     "metadata": {},
     "output_type": "execute_result"
    }
   ],
   "source": [
    "convert_time(df['start_num_time'].max())"
   ]
  },
  {
   "cell_type": "markdown",
   "metadata": {},
   "source": [
    "### 数据可视化描述"
   ]
  },
  {
   "cell_type": "markdown",
   "metadata": {},
   "source": [
    "#### 数据分布"
   ]
  },
  {
   "cell_type": "code",
   "execution_count": 622,
   "metadata": {
    "collapsed": false
   },
   "outputs": [
    {
     "data": {
      "text/plain": [
       "<matplotlib.axes._subplots.AxesSubplot at 0x11e4ce320>"
      ]
     },
     "execution_count": 622,
     "metadata": {},
     "output_type": "execute_result"
    },
    {
     "data": {
      "image/png": "[encoded data removed]",
      "text/plain": [
       "<matplotlib.figure.Figure at 0x11e6bfd68>"
      ]
     },
     "metadata": {},
     "output_type": "display_data"
    }
   ],
   "source": [
    "df['steps'].plot(kind='hist')"
   ]
  },
  {
   "cell_type": "code",
   "execution_count": 624,
   "metadata": {
    "collapsed": false
   },
   "outputs": [
    {
     "data": {
      "text/plain": [
       "<matplotlib.axes._subplots.AxesSubplot at 0x11e9c42b0>"
      ]
     },
     "execution_count": 624,
     "metadata": {},
     "output_type": "execute_result"
    },
    {
     "data": {
      "image/png": "[encoded data removed]",
      "text/plain": [
       "<matplotlib.figure.Figure at 0x11e983780>"
      ]
     },
     "metadata": {},
     "output_type": "display_data"
    }
   ],
   "source": [
    "df['quality'].plot(kind='hist')"
   ]
  },
  {
   "cell_type": "code",
   "execution_count": 625,
   "metadata": {
    "collapsed": false,
    "scrolled": true
   },
   "outputs": [
    {
     "data": {
      "text/plain": [
       "<matplotlib.axes._subplots.AxesSubplot at 0x11ecfae80>"
      ]
     },
     "execution_count": 625,
     "metadata": {},
     "output_type": "execute_result"
    },
    {
     "data": {
      "image/png": "[encoded data removed]",
      "text/plain": [
       "<matplotlib.figure.Figure at 0x11f5374e0>"
      ]
     },
     "metadata": {},
     "output_type": "display_data"
    }
   ],
   "source": [
    "df['bed_time'].plot(kind='hist')"
   ]
  },
  {
   "cell_type": "code",
   "execution_count": 627,
   "metadata": {
    "collapsed": false
   },
   "outputs": [
    {
     "data": {
      "text/plain": [
       "<matplotlib.axes._subplots.AxesSubplot at 0x11f6dd0f0>"
      ]
     },
     "execution_count": 627,
     "metadata": {},
     "output_type": "execute_result"
    },
    {
     "data": {
      "image/png": "[encoded data removed]",
      "text/plain": [
       "<matplotlib.figure.Figure at 0x11f6ea6d8>"
      ]
     },
     "metadata": {},
     "output_type": "display_data"
    }
   ],
   "source": [
    "df['start_num_time'].plot(kind='hist')"
   ]
  },
  {
   "cell_type": "markdown",
   "metadata": {},
   "source": [
    "#### 数据之间的联系"
   ]
  },
  {
   "cell_type": "markdown",
   "metadata": {},
   "source": [
    "步数与睡眠质量数据之间的联系"
   ]
  },
  {
   "cell_type": "code",
   "execution_count": 608,
   "metadata": {
    "collapsed": false,
    "scrolled": false
   },
   "outputs": [
    {
     "data": {
      "text/plain": [
       "<matplotlib.axes._subplots.AxesSubplot at 0x11dde0128>"
      ]
     },
     "execution_count": 608,
     "metadata": {},
     "output_type": "execute_result"
    },
    {
     "data": {
      "image/png": "[encoded data removed]",
      "text/plain": [
       "<matplotlib.figure.Figure at 0x11ddeb4e0>"
      ]
     },
     "metadata": {},
     "output_type": "display_data"
    }
   ],
   "source": [
    "df.plot(kind=\"scatter\", x=\"steps\", y=\"quality\")"
   ]
  },
  {
   "cell_type": "markdown",
   "metadata": {},
   "source": [
    "睡眠时长与睡眠质量之间的联系"
   ]
  },
  {
   "cell_type": "code",
   "execution_count": 609,
   "metadata": {
    "collapsed": false
   },
   "outputs": [
    {
     "data": {
      "text/plain": [
       "<matplotlib.axes._subplots.AxesSubplot at 0x11de0d4a8>"
      ]
     },
     "execution_count": 609,
     "metadata": {},
     "output_type": "execute_result"
    },
    {
     "data": {
      "image/png": "[encoded data removed]",
      "text/plain": [
       "<matplotlib.figure.Figure at 0x11de4ae80>"
      ]
     },
     "metadata": {},
     "output_type": "display_data"
    }
   ],
   "source": [
    "df.plot(kind=\"scatter\", x=\"bed_time\", y=\"quality\")"
   ]
  },
  {
   "cell_type": "markdown",
   "metadata": {},
   "source": [
    "步数和睡眠时长之间的联系"
   ]
  },
  {
   "cell_type": "code",
   "execution_count": 610,
   "metadata": {
    "collapsed": false,
    "scrolled": true
   },
   "outputs": [
    {
     "data": {
      "text/plain": [
       "<matplotlib.axes._subplots.AxesSubplot at 0x11de75710>"
      ]
     },
     "execution_count": 610,
     "metadata": {},
     "output_type": "execute_result"
    },
    {
     "data": {
      "image/png": "[encoded data removed]",
      "text/plain": [
       "<matplotlib.figure.Figure at 0x11df75550>"
      ]
     },
     "metadata": {},
     "output_type": "display_data"
    }
   ],
   "source": [
    "df.plot(kind=\"scatter\", x=\"steps\", y=\"bed_time\")"
   ]
  },
  {
   "cell_type": "markdown",
   "metadata": {},
   "source": [
    "入睡时间和睡眠质量之间的联系"
   ]
  },
  {
   "cell_type": "code",
   "execution_count": 626,
   "metadata": {
    "collapsed": false
   },
   "outputs": [
    {
     "data": {
      "text/plain": [
       "<matplotlib.axes._subplots.AxesSubplot at 0x11f668518>"
      ]
     },
     "execution_count": 626,
     "metadata": {},
     "output_type": "execute_result"
    },
    {
     "data": {
      "image/png": "[encoded data removed]",
      "text/plain": [
       "<matplotlib.figure.Figure at 0x11f674780>"
      ]
     },
     "metadata": {},
     "output_type": "display_data"
    }
   ],
   "source": [
    "df.plot.scatter(x='start_num_time', y='quality')"
   ]
  },
  {
   "cell_type": "markdown",
   "metadata": {},
   "source": [
    "## Step 4 分析与结论"
   ]
  },
  {
   "cell_type": "markdown",
   "metadata": {},
   "source": [
    "### 决定睡眠质量的因素"
   ]
  },
  {
   "cell_type": "markdown",
   "metadata": {},
   "source": [
    "我们可以合理地假设，睡眠质量与睡眠时长、入睡时间以及当天运动步数有较大的相关性，例如睡眠时长越长睡眠质量也相应越高。为了验证该假设，我们结合睡眠质量数据和其他相关数据进行绘图："
   ]
  },
  {
   "cell_type": "code",
   "execution_count": 621,
   "metadata": {
    "collapsed": false
   },
   "outputs": [
    {
     "data": {
      "text/plain": [
       "<matplotlib.axes._subplots.AxesSubplot at 0x11e314710>"
      ]
     },
     "execution_count": 621,
     "metadata": {},
     "output_type": "execute_result"
    },
    {
     "data": {
      "image/png": "[encoded data removed]",
      "text/plain": [
       "<matplotlib.figure.Figure at 0x11e0e6908>"
      ]
     },
     "metadata": {},
     "output_type": "display_data"
    }
   ],
   "source": [
    "df.corr()['quality'][[\"bed_time\", \"steps\", \"start_num_time\"]].plot.bar()"
   ]
  },
  {
   "cell_type": "markdown",
   "metadata": {},
   "source": [
    "#### 睡眠时长"
   ]
  },
  {
   "cell_type": "markdown",
   "metadata": {},
   "source": [
    "相关性最高的是睡眠时长，相关系数达到了0.67左右，其与睡眠质量呈强正相关性，但还需要做显著性差异检验，即t-test，来检验两组数据是否显著相关。"
   ]
  },
  {
   "cell_type": "markdown",
   "metadata": {},
   "source": [
    "通过观察睡眠时长与睡眠质量数据的散点图发现，睡眠时长大于8小时的睡眠记录全部达到了83%以上的高睡眠质量，最高的睡眠质量的记录也是睡眠时长最长（约9小时），而睡眠时长在5小时以下的数据也普遍在40%以下的睡眠质量。可见睡眠时长对睡眠质量的影响很大，要想达到更好的睡眠效果，最好保持8-9小时的睡眠时间。"
   ]
  },
  {
   "cell_type": "code",
   "execution_count": 628,
   "metadata": {
    "collapsed": false,
    "scrolled": true
   },
   "outputs": [
    {
     "data": {
      "text/plain": [
       "<matplotlib.axes._subplots.AxesSubplot at 0x11f9e8908>"
      ]
     },
     "execution_count": 628,
     "metadata": {},
     "output_type": "execute_result"
    },
    {
     "data": {
      "image/png": "[encoded data removed]",
      "text/plain": [
       "<matplotlib.figure.Figure at 0x11f8d9da0>"
      ]
     },
     "metadata": {},
     "output_type": "display_data"
    }
   ],
   "source": [
    "df.plot(kind=\"scatter\", x=\"bed_time\", y=\"quality\")"
   ]
  },
  {
   "cell_type": "markdown",
   "metadata": {},
   "source": [
    "但需要注意的是，睡眠质量的计算是由App内部计算得出，其权威性和准确度仍然存疑，可能其算法中睡眠时长也是重要的参数之一"
   ]
  },
  {
   "cell_type": "markdown",
   "metadata": {},
   "source": [
    "#### 入睡时间"
   ]
  },
  {
   "cell_type": "markdown",
   "metadata": {},
   "source": [
    "入睡时间与睡眠质量呈较强的负相关关系，相关系数接近-0.3，即入睡时间越晚当天的睡眠质量可能越差"
   ]
  },
  {
   "cell_type": "markdown",
   "metadata": {},
   "source": [
    "通过观察三点图可以发现，虽然23:30之前的数据量较小，但除了一个特殊值外睡眠质量全部都保持在70%以上，最高的睡眠质量也是在十一点半之前入睡，而23:30之后的睡眠质量则方差较大，总体保持下行的趋势"
   ]
  },
  {
   "cell_type": "code",
   "execution_count": 632,
   "metadata": {
    "collapsed": false
   },
   "outputs": [
    {
     "data": {
      "text/plain": [
       "<matplotlib.axes._subplots.AxesSubplot at 0x11fc5f5f8>"
      ]
     },
     "execution_count": 632,
     "metadata": {},
     "output_type": "execute_result"
    },
    {
     "data": {
      "image/png": "[encoded data removed]",
      "text/plain": [
       "<matplotlib.figure.Figure at 0x11fb17ef0>"
      ]
     },
     "metadata": {},
     "output_type": "display_data"
    }
   ],
   "source": [
    "df.plot.scatter(x='start_num_time', y='quality')"
   ]
  },
  {
   "cell_type": "markdown",
   "metadata": {},
   "source": [
    "二者出现负相关的原因，可能是宿舍舍友的起床时间比较早会发出噪音，以及白天的太阳光照射因素，这些都会影响晚睡晚起时的睡眠质量\n",
    "\n",
    "一方面，可以发现在23:30之前睡觉可以基本保证70%较为稳定的较高睡眠质量；另一方面，偶尔晚睡也不必有太大的心理压力，因为即使三点左右入睡，依然有可能保持80-90%的睡眠质量"
   ]
  },
  {
   "cell_type": "markdown",
   "metadata": {},
   "source": [
    "### 个人睡眠策略"
   ]
  },
  {
   "cell_type": "markdown",
   "metadata": {},
   "source": [
    "1. 提高睡眠时间，最佳的睡眠时间是8-9小时，即使特殊情况最少也不要低于5小时的睡眠\n",
    "\n",
    "2. 尽量早睡，最好保持在23:30之前入睡\n",
    "\n",
    "3. 若不得不晚睡，也不用有太大心理压力，提早拉好窗帘并告知舍友不要打扰休息"
   ]
  },
  {
   "cell_type": "markdown",
   "metadata": {},
   "source": [
    "### 注意事项"
   ]
  },
  {
   "cell_type": "markdown",
   "metadata": {},
   "source": [
    "为了进一步提高该数据报告结论的合理性，还需要对一些因素进行进一步分析和验证：\n",
    "\n",
    "1. 是否睡眠时长越长相应的睡眠质量也越高，以及最佳的睡眠时间是多少，缺少8小时以上更多的睡眠数据对这些问题进行进一步论证\n",
    "\n",
    "2. 23:30之前入睡的睡眠记录较少，因此得出的结论可信度不太够，之后需要补充早睡的记录数据\n",
    "\n",
    "3. 影响晚睡晚起时睡眠质量的因素只是根据个人经验的猜测，依然需要设置变量进行进一步验证，比如保证白天安静黑暗的环境进行睡眠数据的记录和对比分析"
   ]
  },
  {
   "cell_type": "markdown",
   "metadata": {},
   "source": [
    "# 操作备忘\n",
    "1. 如何实现分列的操作？\n",
    "2. 如何实现Excel中的Left，Mid等函数操作？用正则表达式？\n",
    "3. Excel中某些优越性如何通过Python来实现，比如检查表格中的异常数据，如：\"00;\"\n",
    "4. drop数据后记得要reset_index;\n",
    "5. pandas的merge操作：要有共同的列？"
   ]
  }
 ],
 "metadata": {
  "anaconda-cloud": {},
  "kernelspec": {
   "display_name": "Python [conda root]",
   "language": "python",
   "name": "conda-root-py"
  }
 },
 "nbformat": 4,
 "nbformat_minor": 1
}
