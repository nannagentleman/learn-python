{
 "cells": [
  {
   "cell_type": "code",
   "execution_count": 1,
   "metadata": {
    "collapsed": true
   },
   "outputs": [],
   "source": [
    "import sqlite3"
   ]
  },
  {
   "cell_type": "code",
   "execution_count": 2,
   "metadata": {
    "collapsed": true
   },
   "outputs": [],
   "source": [
    "con = sqlite3.connect(\"school.db\")"
   ]
  },
  {
   "cell_type": "code",
   "execution_count": 3,
   "metadata": {
    "collapsed": true
   },
   "outputs": [],
   "source": [
    "cursor = con.cursor()"
   ]
  },
  {
   "cell_type": "code",
   "execution_count": 4,
   "metadata": {
    "collapsed": false
   },
   "outputs": [
    {
     "data": {
      "text/plain": [
       "<sqlite3.Cursor at 0x104911810>"
      ]
     },
     "execution_count": 4,
     "metadata": {},
     "output_type": "execute_result"
    }
   ],
   "source": [
    "cursor.execute('create table student (Sno varchar(20) primary key,Sname varchar(20),Ssex varchar(8),Sage int,Sdept varchar(20))')"
   ]
  },
  {
   "cell_type": "code",
   "execution_count": 6,
   "metadata": {
    "collapsed": false
   },
   "outputs": [
    {
     "data": {
      "text/plain": [
       "<sqlite3.Cursor at 0x104911810>"
      ]
     },
     "execution_count": 6,
     "metadata": {},
     "output_type": "execute_result"
    }
   ],
   "source": [
    "cursor.execute('insert into student (Sno, Sname, Ssex, Sage, Sdept) values (\\'141070001\\', \\'帅\\', \\'男\\', 20, \\'信息管理\\')')"
   ]
  },
  {
   "cell_type": "code",
   "execution_count": 7,
   "metadata": {
    "collapsed": false
   },
   "outputs": [
    {
     "data": {
      "text/plain": [
       "1"
      ]
     },
     "execution_count": 7,
     "metadata": {},
     "output_type": "execute_result"
    }
   ],
   "source": [
    "cursor.rowcount"
   ]
  },
  {
   "cell_type": "code",
   "execution_count": 14,
   "metadata": {
    "collapsed": false
   },
   "outputs": [
    {
     "data": {
      "text/plain": [
       "<sqlite3.Cursor at 0x104911810>"
      ]
     },
     "execution_count": 14,
     "metadata": {},
     "output_type": "execute_result"
    }
   ],
   "source": [
    "cursor.execute('select * from student')"
   ]
  },
  {
   "cell_type": "code",
   "execution_count": 15,
   "metadata": {
    "collapsed": true
   },
   "outputs": [],
   "source": [
    "values = cursor.fetchall()"
   ]
  },
  {
   "cell_type": "code",
   "execution_count": 16,
   "metadata": {
    "collapsed": false
   },
   "outputs": [
    {
     "data": {
      "text/plain": [
       "[(141070001, '帅', '男', 20, '信息管理')]"
      ]
     },
     "execution_count": 16,
     "metadata": {},
     "output_type": "execute_result"
    }
   ],
   "source": [
    "values"
   ]
  },
  {
   "cell_type": "code",
   "execution_count": 20,
   "metadata": {
    "collapsed": false
   },
   "outputs": [
    {
     "data": {
      "text/plain": [
       "list"
      ]
     },
     "execution_count": 20,
     "metadata": {},
     "output_type": "execute_result"
    }
   ],
   "source": [
    "type(values)"
   ]
  },
  {
   "cell_type": "markdown",
   "metadata": {},
   "source": [
    "## 创建例题中的表"
   ]
  },
  {
   "cell_type": "code",
   "execution_count": 22,
   "metadata": {
    "collapsed": false
   },
   "outputs": [
    {
     "data": {
      "text/plain": [
       "<sqlite3.Cursor at 0x104911810>"
      ]
     },
     "execution_count": 22,
     "metadata": {},
     "output_type": "execute_result"
    }
   ],
   "source": [
    "cursor.execute('insert into student (Sno, Sname, Ssex, Sage, Sdept) values (\\'141070002\\', \\'爽\\', \\'女\\', 19, \\'信息管理\\')')"
   ]
  },
  {
   "cell_type": "code",
   "execution_count": 23,
   "metadata": {
    "collapsed": false
   },
   "outputs": [
    {
     "data": {
      "text/plain": [
       "<sqlite3.Cursor at 0x104911810>"
      ]
     },
     "execution_count": 23,
     "metadata": {},
     "output_type": "execute_result"
    }
   ],
   "source": [
    "cursor.execute('insert into student (Sno, Sname, Ssex, Sage, Sdept) values (\\'141070003\\', \\'孔师傅\\', \\'男\\', 21, \\'金融\\')')"
   ]
  },
  {
   "cell_type": "code",
   "execution_count": 25,
   "metadata": {
    "collapsed": false
   },
   "outputs": [
    {
     "data": {
      "text/plain": [
       "<sqlite3.Cursor at 0x104911810>"
      ]
     },
     "execution_count": 25,
     "metadata": {},
     "output_type": "execute_result"
    }
   ],
   "source": [
    "cursor.execute('insert into student (Sno, Sname, Ssex, Sage, Sdept) values (\\'141070004\\', \\'Maggie\\', \\'女\\', 26, \\'金融\\')')"
   ]
  },
  {
   "cell_type": "code",
   "execution_count": 26,
   "metadata": {
    "collapsed": false
   },
   "outputs": [
    {
     "data": {
      "text/plain": [
       "<sqlite3.Cursor at 0x104911810>"
      ]
     },
     "execution_count": 26,
     "metadata": {},
     "output_type": "execute_result"
    }
   ],
   "source": [
    "cursor.execute('insert into student (Sno, Sname, Ssex, Sage, Sdept) values (\\'141070005\\', \\'文博\\', \\'男\\', 21, \\'计算机\\')')"
   ]
  },
  {
   "cell_type": "code",
   "execution_count": 27,
   "metadata": {
    "collapsed": false
   },
   "outputs": [
    {
     "data": {
      "text/plain": [
       "<sqlite3.Cursor at 0x104911810>"
      ]
     },
     "execution_count": 27,
     "metadata": {},
     "output_type": "execute_result"
    }
   ],
   "source": [
    "cursor.execute('insert into student (Sno, Sname, Ssex, Sage, Sdept) values (\\'141070006\\', \\'宁姐\\', \\'男\\', 20, \\'计算机\\')')"
   ]
  },
  {
   "cell_type": "code",
   "execution_count": 30,
   "metadata": {
    "collapsed": false
   },
   "outputs": [
    {
     "data": {
      "text/plain": [
       "<sqlite3.Cursor at 0x104911810>"
      ]
     },
     "execution_count": 30,
     "metadata": {},
     "output_type": "execute_result"
    }
   ],
   "source": [
    "cursor.execute('create table course (Cno varchar(10) primary key,Cname varchar(20), Hours int)')"
   ]
  },
  {
   "cell_type": "code",
   "execution_count": 32,
   "metadata": {
    "collapsed": false
   },
   "outputs": [
    {
     "data": {
      "text/plain": [
       "<sqlite3.Cursor at 0x104911810>"
      ]
     },
     "execution_count": 32,
     "metadata": {},
     "output_type": "execute_result"
    }
   ],
   "source": [
    "cursor.execute('insert into course (Cno, Cname, Hours) values (\\'C01\\', \\'Python\\',70)')"
   ]
  },
  {
   "cell_type": "code",
   "execution_count": 33,
   "metadata": {
    "collapsed": false
   },
   "outputs": [
    {
     "data": {
      "text/plain": [
       "<sqlite3.Cursor at 0x104911810>"
      ]
     },
     "execution_count": 33,
     "metadata": {},
     "output_type": "execute_result"
    }
   ],
   "source": [
    "cursor.execute('insert into course (Cno, Cname, Hours) values (\\'C02\\', \\'机器学习\\',180)')"
   ]
  },
  {
   "cell_type": "code",
   "execution_count": 34,
   "metadata": {
    "collapsed": false
   },
   "outputs": [
    {
     "data": {
      "text/plain": [
       "<sqlite3.Cursor at 0x104911810>"
      ]
     },
     "execution_count": 34,
     "metadata": {},
     "output_type": "execute_result"
    }
   ],
   "source": [
    "cursor.execute('insert into course (Cno, Cname, Hours) values (\\'C03\\', \\'计算机网络\\',90)')"
   ]
  },
  {
   "cell_type": "code",
   "execution_count": 35,
   "metadata": {
    "collapsed": false
   },
   "outputs": [
    {
     "data": {
      "text/plain": [
       "<sqlite3.Cursor at 0x104911810>"
      ]
     },
     "execution_count": 35,
     "metadata": {},
     "output_type": "execute_result"
    }
   ],
   "source": [
    "cursor.execute('insert into course (Cno, Cname, Hours) values (\\'C04\\', \\'数据结构\\',100)')"
   ]
  },
  {
   "cell_type": "code",
   "execution_count": 36,
   "metadata": {
    "collapsed": false
   },
   "outputs": [
    {
     "data": {
      "text/plain": [
       "<sqlite3.Cursor at 0x104911810>"
      ]
     },
     "execution_count": 36,
     "metadata": {},
     "output_type": "execute_result"
    }
   ],
   "source": [
    "cursor.execute('insert into course (Cno, Cname, Hours) values (\\'C05\\', \\'运筹学\\',80)')"
   ]
  },
  {
   "cell_type": "code",
   "execution_count": 37,
   "metadata": {
    "collapsed": false
   },
   "outputs": [
    {
     "data": {
      "text/plain": [
       "<sqlite3.Cursor at 0x104911810>"
      ]
     },
     "execution_count": 37,
     "metadata": {},
     "output_type": "execute_result"
    }
   ],
   "source": [
    "cursor.execute('insert into course (Cno, Cname, Hours) values (\\'C06\\', \\'管理信息系统\\',60)')"
   ]
  },
  {
   "cell_type": "code",
   "execution_count": 41,
   "metadata": {
    "collapsed": false
   },
   "outputs": [
    {
     "data": {
      "text/plain": [
       "<sqlite3.Cursor at 0x104911810>"
      ]
     },
     "execution_count": 41,
     "metadata": {},
     "output_type": "execute_result"
    }
   ],
   "source": [
    "cursor.execute('create table SC (Sno varchar(20),Cno varchar(20),Grade int)')"
   ]
  },
  {
   "cell_type": "code",
   "execution_count": 42,
   "metadata": {
    "collapsed": false
   },
   "outputs": [
    {
     "data": {
      "text/plain": [
       "<sqlite3.Cursor at 0x104911810>"
      ]
     },
     "execution_count": 42,
     "metadata": {},
     "output_type": "execute_result"
    }
   ],
   "source": [
    "cursor.execute('insert into SC (Sno, Cno, Grade) values (\\'141070001\\', \\'C01\\',90)')"
   ]
  },
  {
   "cell_type": "code",
   "execution_count": 43,
   "metadata": {
    "collapsed": false
   },
   "outputs": [
    {
     "data": {
      "text/plain": [
       "<sqlite3.Cursor at 0x104911810>"
      ]
     },
     "execution_count": 43,
     "metadata": {},
     "output_type": "execute_result"
    }
   ],
   "source": [
    "cursor.execute('insert into SC (Sno, Cno, Grade) values (\\'141070001\\', \\'C02\\',86)')"
   ]
  },
  {
   "cell_type": "code",
   "execution_count": 47,
   "metadata": {
    "collapsed": false
   },
   "outputs": [
    {
     "data": {
      "text/plain": [
       "<sqlite3.Cursor at 0x104911810>"
      ]
     },
     "execution_count": 47,
     "metadata": {},
     "output_type": "execute_result"
    }
   ],
   "source": [
    "cursor.execute('insert into SC (Sno, Cno) values (\\'141070001\\', \\'C06\\')')"
   ]
  },
  {
   "cell_type": "code",
   "execution_count": 48,
   "metadata": {
    "collapsed": false
   },
   "outputs": [
    {
     "data": {
      "text/plain": [
       "<sqlite3.Cursor at 0x104911810>"
      ]
     },
     "execution_count": 48,
     "metadata": {},
     "output_type": "execute_result"
    }
   ],
   "source": [
    "cursor.execute('insert into SC (Sno, Cno, Grade) values (\\'141070002\\', \\'C02\\',78)')"
   ]
  },
  {
   "cell_type": "code",
   "execution_count": 49,
   "metadata": {
    "collapsed": false
   },
   "outputs": [
    {
     "data": {
      "text/plain": [
       "<sqlite3.Cursor at 0x104911810>"
      ]
     },
     "execution_count": 49,
     "metadata": {},
     "output_type": "execute_result"
    }
   ],
   "source": [
    "cursor.execute('insert into SC (Sno, Cno, Grade) values (\\'141070001\\', \\'C04\\',66)')"
   ]
  },
  {
   "cell_type": "code",
   "execution_count": 50,
   "metadata": {
    "collapsed": false
   },
   "outputs": [
    {
     "data": {
      "text/plain": [
       "<sqlite3.Cursor at 0x104911810>"
      ]
     },
     "execution_count": 50,
     "metadata": {},
     "output_type": "execute_result"
    }
   ],
   "source": [
    "cursor.execute('insert into SC (Sno, Cno, Grade) values (\\'141070003\\', \\'C0101\\',82)')"
   ]
  },
  {
   "cell_type": "code",
   "execution_count": 51,
   "metadata": {
    "collapsed": false
   },
   "outputs": [
    {
     "data": {
      "text/plain": [
       "<sqlite3.Cursor at 0x104911810>"
      ]
     },
     "execution_count": 51,
     "metadata": {},
     "output_type": "execute_result"
    }
   ],
   "source": [
    "cursor.execute('insert into SC (Sno, Cno, Grade) values (\\'141070003\\', \\'C01\\',82)')"
   ]
  },
  {
   "cell_type": "code",
   "execution_count": 52,
   "metadata": {
    "collapsed": false
   },
   "outputs": [
    {
     "data": {
      "text/plain": [
       "<sqlite3.Cursor at 0x104911810>"
      ]
     },
     "execution_count": 52,
     "metadata": {},
     "output_type": "execute_result"
    }
   ],
   "source": [
    "cursor.execute('insert into SC (Sno, Cno, Grade) values (\\'141070003\\', \\'C02\\',75)')"
   ]
  },
  {
   "cell_type": "code",
   "execution_count": 53,
   "metadata": {
    "collapsed": false
   },
   "outputs": [
    {
     "data": {
      "text/plain": [
       "<sqlite3.Cursor at 0x104911810>"
      ]
     },
     "execution_count": 53,
     "metadata": {},
     "output_type": "execute_result"
    }
   ],
   "source": [
    "cursor.execute('insert into SC (Sno, Cno, Grade) values (\\'141070003\\', \\'C04\\',92)')"
   ]
  },
  {
   "cell_type": "code",
   "execution_count": 54,
   "metadata": {
    "collapsed": false
   },
   "outputs": [
    {
     "data": {
      "text/plain": [
       "<sqlite3.Cursor at 0x104911810>"
      ]
     },
     "execution_count": 54,
     "metadata": {},
     "output_type": "execute_result"
    }
   ],
   "source": [
    "cursor.execute('insert into SC (Sno, Cno, Grade) values (\\'141070002\\', \\'C05\\',50)')"
   ]
  },
  {
   "cell_type": "code",
   "execution_count": 55,
   "metadata": {
    "collapsed": false
   },
   "outputs": [
    {
     "data": {
      "text/plain": [
       "<sqlite3.Cursor at 0x104911810>"
      ]
     },
     "execution_count": 55,
     "metadata": {},
     "output_type": "execute_result"
    }
   ],
   "source": [
    "cursor.execute('insert into SC (Sno, Cno, Grade) values (\\'141070004\\', \\'C02\\',68)')"
   ]
  },
  {
   "cell_type": "code",
   "execution_count": 56,
   "metadata": {
    "collapsed": false
   },
   "outputs": [
    {
     "data": {
      "text/plain": [
       "<sqlite3.Cursor at 0x104911810>"
      ]
     },
     "execution_count": 56,
     "metadata": {},
     "output_type": "execute_result"
    }
   ],
   "source": [
    "cursor.execute('insert into SC (Sno, Cno) values (\\'141070004\\', \\'C06\\')')"
   ]
  },
  {
   "cell_type": "code",
   "execution_count": 57,
   "metadata": {
    "collapsed": false
   },
   "outputs": [
    {
     "data": {
      "text/plain": [
       "<sqlite3.Cursor at 0x104911810>"
      ]
     },
     "execution_count": 57,
     "metadata": {},
     "output_type": "execute_result"
    }
   ],
   "source": [
    "cursor.execute('insert into SC (Sno, Cno, Grade) values (\\'141070005\\', \\'C01\\',80)')"
   ]
  },
  {
   "cell_type": "code",
   "execution_count": 58,
   "metadata": {
    "collapsed": false
   },
   "outputs": [
    {
     "data": {
      "text/plain": [
       "<sqlite3.Cursor at 0x104911810>"
      ]
     },
     "execution_count": 58,
     "metadata": {},
     "output_type": "execute_result"
    }
   ],
   "source": [
    "cursor.execute('insert into SC (Sno, Cno, Grade) values (\\'141070005\\', \\'C05\\',95)')"
   ]
  },
  {
   "cell_type": "code",
   "execution_count": 59,
   "metadata": {
    "collapsed": false
   },
   "outputs": [
    {
     "data": {
      "text/plain": [
       "<sqlite3.Cursor at 0x104911810>"
      ]
     },
     "execution_count": 59,
     "metadata": {},
     "output_type": "execute_result"
    }
   ],
   "source": [
    "cursor.execute('insert into SC (Sno, Cno, Grade) values (\\'141070006\\', \\'C05\\',85)')"
   ]
  },
  {
   "cell_type": "code",
   "execution_count": 62,
   "metadata": {
    "collapsed": false
   },
   "outputs": [
    {
     "data": {
      "text/plain": [
       "<sqlite3.Cursor at 0x104911810>"
      ]
     },
     "execution_count": 62,
     "metadata": {},
     "output_type": "execute_result"
    }
   ],
   "source": [
    "cursor.execute('DELETE FROM SC WHERE Cno=\\'C0101\\'')"
   ]
  },
  {
   "cell_type": "markdown",
   "metadata": {},
   "source": [
    "## 显示所有数据"
   ]
  },
  {
   "cell_type": "code",
   "execution_count": 63,
   "metadata": {
    "collapsed": false
   },
   "outputs": [
    {
     "data": {
      "text/plain": [
       "<sqlite3.Cursor at 0x104911810>"
      ]
     },
     "execution_count": 63,
     "metadata": {},
     "output_type": "execute_result"
    }
   ],
   "source": [
    "cursor.execute(\"SELECT * FROM student\")"
   ]
  },
  {
   "cell_type": "code",
   "execution_count": 64,
   "metadata": {
    "collapsed": true
   },
   "outputs": [],
   "source": [
    "values = cursor.fetchall()"
   ]
  },
  {
   "cell_type": "code",
   "execution_count": 65,
   "metadata": {
    "collapsed": false
   },
   "outputs": [
    {
     "data": {
      "text/plain": [
       "[(141070001, '帅', '男', 20, '信息管理'),\n",
       " (141070002, '爽', '女', 19, '信息管理'),\n",
       " (141070003, '孔师傅', '男', 21, '金融'),\n",
       " (141070004, 'Maggie', '女', 26, '金融'),\n",
       " (141070005, '文博', '男', 21, '计算机'),\n",
       " (141070006, '宁姐', '男', 20, '计算机')]"
      ]
     },
     "execution_count": 65,
     "metadata": {},
     "output_type": "execute_result"
    }
   ],
   "source": [
    "values"
   ]
  },
  {
   "cell_type": "code",
   "execution_count": 66,
   "metadata": {
    "collapsed": false
   },
   "outputs": [
    {
     "data": {
      "text/plain": [
       "<sqlite3.Cursor at 0x104911810>"
      ]
     },
     "execution_count": 66,
     "metadata": {},
     "output_type": "execute_result"
    }
   ],
   "source": [
    "cursor.execute(\"SELECT * FROM course\")"
   ]
  },
  {
   "cell_type": "code",
   "execution_count": 67,
   "metadata": {
    "collapsed": true
   },
   "outputs": [],
   "source": [
    "values = cursor.fetchall()"
   ]
  },
  {
   "cell_type": "code",
   "execution_count": 68,
   "metadata": {
    "collapsed": false
   },
   "outputs": [
    {
     "data": {
      "text/plain": [
       "[('C01', 'Python', 70),\n",
       " ('C02', '机器学习', 180),\n",
       " ('C03', '计算机网络', 90),\n",
       " ('C04', '数据结构', 100),\n",
       " ('C05', '运筹学', 80),\n",
       " ('C06', '管理信息系统', 60)]"
      ]
     },
     "execution_count": 68,
     "metadata": {},
     "output_type": "execute_result"
    }
   ],
   "source": [
    "values"
   ]
  },
  {
   "cell_type": "code",
   "execution_count": 70,
   "metadata": {
    "collapsed": false
   },
   "outputs": [
    {
     "data": {
      "text/plain": [
       "<sqlite3.Cursor at 0x104911810>"
      ]
     },
     "execution_count": 70,
     "metadata": {},
     "output_type": "execute_result"
    }
   ],
   "source": [
    "cursor.execute(\"SELECT * FROM Sc\")"
   ]
  },
  {
   "cell_type": "code",
   "execution_count": 71,
   "metadata": {
    "collapsed": true
   },
   "outputs": [],
   "source": [
    "values = cursor.fetchall()"
   ]
  },
  {
   "cell_type": "markdown",
   "metadata": {
    "collapsed": true
   },
   "source": [
    "### 经典例题"
   ]
  },
  {
   "cell_type": "markdown",
   "metadata": {},
   "source": [
    "1.查询成绩在70到80分之间的学生的学号、课程号和成绩。\n",
    "\n",
    "SELECT Sno, Cno, Grade\n",
    "\n",
    "FROM SC\n",
    "\n",
    "WHERE Grade BETWEEN 70 AND 80;\n",
    "#### 反思\n",
    "\n",
    "**不是 BETWEEN(70, 80)； \n",
    "SQL和Python编程是两种思维，sql则是由一个关键字和其后的数据构成的，比如 BETWEEN 后跟着数据对象(70 AND 80)**\n",
    "\n",
    "2.查询C01号课程成绩最高的分数\n",
    "\n",
    "SELECT GRADE\n",
    "\n",
    "FROM SC\n",
    "\n",
    "WHERE Cno='C01'\n",
    "\n",
    "LIMIT 1\n",
    "\n",
    "ORDER BY GRADE DESC;  ** -- ORDER BY 必须是 SELECT 语句最后一条子句 **"
   ]
  },
  {
   "cell_type": "markdown",
   "metadata": {},
   "source": [
    "3.查询学生都选修了哪些课程,要求列出课程号。\n",
    "特点：两表结合确定数据，但只显示一表的数据；\n",
    "\n",
    "**解法一：**\n",
    "\n",
    "SELECT Cname, Cno\n",
    "\n",
    "FROM course\n",
    "\n",
    "WHERE Cno IN (SELECT Cno FROM SC)\n",
    "\n",
    "**解法二：**\n",
    "\n",
    "SELECT DISTINCT Cname, course.Cno\n",
    "\n",
    "FROM course\n",
    "\n",
    "INNER JOIN SC\n",
    "\n",
    "ON course.Cno=SC.Cno;\n",
    "\n",
    "**反思：**\n",
    "\n",
    "什么时候用JOIN什么时候用WHERE?\n",
    "\n",
    "SELECT Cname, DISTINCT course.Cno 不符合语法；"
   ]
  },
  {
   "cell_type": "markdown",
   "metadata": {},
   "source": [
    "4.查询修了C02号课程的所有学生的平均成绩、最高成绩和最低成绩\n",
    "\n",
    "SELECT AVG(Grade), MAX(Grade), MIN(Grade)\n",
    "\n",
    "FROM SC\n",
    "\n",
    "WHERE Cno='C02';"
   ]
  },
  {
   "cell_type": "markdown",
   "metadata": {},
   "source": [
    "5.统计每个系的学生人数\n",
    "\n",
    "SELECT Sdept, COUNT(*) AS num\n",
    "\n",
    "FROM student\n",
    "\n",
    "GROUP BY Sdept;\n",
    "\n",
    "反思：区别在哪里？\n",
    "\n",
    "SELECT Sdept 系别,COUNT(*) 人数\n",
    "\n",
    "FROM student \n",
    "\n",
    "WHERE Sdept IN(SELECT DISTINCT Sdept FROM student) \n",
    "\n",
    "GROUP BY Sdept\n",
    "\n",
    "反思：\n",
    "\n",
    "SELECT Ssex\n",
    "\n",
    "FROM student\n",
    "\n",
    "GROUP BY Sdept;\n",
    "\n",
    "做什么样的操作？COUNT和GROUP BY的运行方式？"
   ]
  },
  {
   "cell_type": "markdown",
   "metadata": {},
   "source": [
    "6.统计每门课程的修课人数和考试最高分\n",
    "\n",
    "SELECT Cno, COUNT(*) AS NUM, MAX(Grade)\n",
    "\n",
    "FROM SC\n",
    "\n",
    "GROUP BY Cno;\n",
    "\n",
    "反思：两表结合的操作!\n",
    "\n",
    "SELECT Cname ,COUNT(*) ,MAX(Grade)\n",
    "\n",
    "FROM SC,course\n",
    "\n",
    "WHERE SC.Cno IN(SELECT DISTINCT Cno FROM SC ) AND course.Cno=SC.Cno\n",
    "\n",
    "GROUP BY course.Cname"
   ]
  },
  {
   "cell_type": "markdown",
   "metadata": {},
   "source": [
    "7.统计每个学生的选课门数,并按选课门数的递增顺序显示结果，同时显示学生的名字\n",
    "\n",
    "特点：两表结合确定数据，但显示两表的数据；\n",
    "\n",
    "SELECT Sname, student.Sno, COUNT(SC.Sno) Course_num\n",
    "\n",
    "FROM student\n",
    "\n",
    "INNER JOIN SC\n",
    "\n",
    "ON student.Sno=SC.Sno\n",
    "\n",
    "GROUP BY SC.Sno  -- 和GROUP BY student.Sname,student.Sno有什么不同？\n",
    "\n",
    "ORDER BY Course_num;\n",
    "\n",
    "反思：\n",
    "\n",
    "1.什么时候用JOIN什么时候用WHERE?结合第三题。\n",
    "\n",
    "2.用COUNT(*)是否会产生歧义？"
   ]
  },
  {
   "cell_type": "markdown",
   "metadata": {},
   "source": [
    "8.统计选修课的学生总数和考试的平均成绩\n",
    "\n",
    "每一门选修课总数：\n",
    "\n",
    "SELECT Cname, COUNT(*) AS stu_num, AVG(Grade)\n",
    "\n",
    "FROM course\n",
    "\n",
    "INNER JOIN SC\n",
    "\n",
    "ON course.Cno=SC.Cno\n",
    "\n",
    "GROUP BY SC.Cno;\n",
    "\n",
    "所有选修课总数：\n",
    "\n",
    "特点：统计本表内去重后的数量；\n",
    "\n",
    "SELECT COUNT(DISTINCT(Sno)), AVG(Grade) \n",
    "\n",
    "FROM SC\n",
    "\n",
    "反思：\n",
    "\n",
    "DISTINCT()是个函数，学会这种用法"
   ]
  },
  {
   "cell_type": "markdown",
   "metadata": {},
   "source": [
    "9.查询选课门数超过2门的学生的平均成绩和选课门数\n",
    "\n",
    "SELECT student.Sname, AVG(SC.Grade), COUNT(SC.Cno) AS course_num\n",
    "\n",
    "FROM STUDENT\n",
    "\n",
    "INNER JOIN SC\n",
    "\n",
    "ON student.Sno=SC.Sno\n",
    "\n",
    "GROUP BY SC.Sno\n",
    "\n",
    "HAVING course_num > 2;  \n",
    "\n",
    "反思：\n",
    "\n",
    "SELECT COUNT(Cno) AS course_num\n",
    "\n",
    "FROM SC\n",
    "\n",
    "where course_num > 2\n",
    "\n",
    "GROUP BY Sno;  -- misuse of aggregate: count() GROUP 和 WHERE 不能混用？\n",
    "\n",
    "INNER JOIN 是比较运算符，只返回符合条件的行。"
   ]
  },
  {
   "cell_type": "markdown",
   "metadata": {},
   "source": [
    "10.列出总成绩超过200分的学生,要求列出学号、总成绩\n",
    "\n",
    "SELECT student.Sno, student.Sname, SUM(Grade) AS TOTAL_GRADE\n",
    "\n",
    "FROM SC\n",
    "\n",
    "INNER JOIN student\n",
    "\n",
    "ON SC.Sno = student.Sno\n",
    "\n",
    "GROUP BY SC.Sno\n",
    "\n",
    "HAVING TOTAL_GRADE > 200;"
   ]
  },
  {
   "cell_type": "markdown",
   "metadata": {},
   "source": [
    "11.查询选修了c02号课程的学生的姓名和所在系\n",
    "\n",
    "SELECT student.Sname, student.Sdept\n",
    "\n",
    "FROM student\n",
    "\n",
    "INNER JOIN SC\n",
    "\n",
    "ON student.Sno=SC.Sno\n",
    "\n",
    "WHERE SC.Cno=\"C02\";"
   ]
  },
  {
   "cell_type": "markdown",
   "metadata": {},
   "source": [
    "12.查询成绩80分以上的学生的姓名、课程号和成绩,并按成绩的降序排列结果\n",
    "\n",
    "SELECT student.Sname, SC.Cno, SC.Grade\n",
    "\n",
    "FROM student\n",
    "\n",
    "INNER JOIN SC\n",
    "\n",
    "ON student.Sno=SC.Sno\n",
    "\n",
    "WHERE SC.Grade>80\n",
    "\n",
    "ORDER BY SC.Grade DESC;"
   ]
  },
  {
   "cell_type": "markdown",
   "metadata": {},
   "source": [
    "13.查询计算机系男生修了\"PYTHON\"的学生的姓名、性别、成绩\n",
    "\n",
    "特点：跨三个表的操作;\n",
    "\n",
    "解法一： \n",
    "\n",
    "SELECT student.Sname, student.Ssex, SC.Grade\n",
    "\n",
    "FROM Student\n",
    "\n",
    "INNER JOIN SC ON (SC.Sno = student.Sno)\n",
    "\n",
    "INNER JOIN course ON (SC.Cno = course.Cno)\n",
    "\n",
    "WHERE student.Ssex='男' AND course.Cname='Python' AND\n",
    "\n",
    "student.Sdept = '计算机';\n",
    "解法二：\n",
    "\n",
    "特点：显示出的数据来自两个表，所以不需要join三个表；\n",
    "\n",
    "SELECT student.Sname, student.Ssex, SC.Grade\n",
    "\n",
    "FROM Student\n",
    "\n",
    "INNER JOIN SC ON SC.Sno=student.Sno\n",
    "\n",
    "WHERE student.Ssex='男' AND\n",
    "\n",
    "student.Sdept = '计算机' AND\n",
    "\n",
    "SC.Cno IN (SELECT Cno FROM course WHERE Cname='Python');\n",
    "\n",
    "解法三：\n",
    "\n",
    "SELECT student.Sname, student.Ssex, SC.Grade\n",
    "\n",
    "FROM Student\n",
    "\n",
    "INNER JOIN SC ON Cno IN (SELECT Cno FROM course WHERE Cname='Python') AND SC.Sno=student.Sno\n",
    "\n",
    "WHERE Ssex='男' AND Sdept = '计算机';"
   ]
  },
  {
   "cell_type": "markdown",
   "metadata": {},
   "source": [
    "14.查询哪些学生的年龄相同,要求列出年龄相同的学生的姓名和年龄。\n",
    "\n",
    "解法一：\n",
    "\n",
    "SELECT Sname, Sage\n",
    "\n",
    "FROM student\n",
    "\n",
    "WHERE Sage IN\n",
    "\n",
    "(SELECT Sage FROM student \n",
    "\n",
    "GROUP BY Sage Having COUNT(*) > 1)\n",
    "\n",
    "ORDER BY Sage;\n",
    "\n",
    "解法二：\n",
    "\n",
    "--使用表的自连接，所以需要给表取两个别名，如A和B\n",
    "\n",
    "SELECT A.Sname, A.Sage\n",
    "\n",
    "FROM student A \n",
    "\n",
    "inner join student B ON A.Sage IN(SELECT Sage FROM student WHERE A.Sage=B.Sage AND A.Sname!=B.Sname)\n",
    "\n",
    "GROUP BY A.Sname,A.Sage\n",
    "\n",
    "ORDER BY A.Sage\n",
    "\n",
    "反思：为什么要用表的自连接？"
   ]
  },
  {
   "cell_type": "markdown",
   "metadata": {},
   "source": [
    "15.查询哪些课程没有人选,要求列出课程号和课程名。\n",
    "\n",
    "SELECT course.Cno, course.Cname\n",
    "\n",
    "FROM course, SC\n",
    "\n",
    "WHERE course.Cno NOT IN (SELECT DISTINCT SC.Cno FROM SC);\n",
    "\n",
    "-- 为什么没有显示理想的结果？ 应该改成 FROM course 或者\n",
    "\n",
    "修改成 SELECT DISTINCT course.Cno, course.Cname 去重\n",
    "\n",
    "正解：\n",
    "\n",
    "-- 启示：FROM后面只跟SELECT需要的表？并不影响WHERE中调用多表操作；\n",
    "\n",
    "SELECT course.Cno, course.Cname\n",
    "\n",
    "FROM course\n",
    "\n",
    "WHERE course.Cno NOT IN (SELECT DISTINCT SC.Cno FROM SC);"
   ]
  },
  {
   "cell_type": "markdown",
   "metadata": {},
   "source": [
    "16.查询有考试成绩的所有学生的姓名、修课名称及考试成绩\n",
    "\n",
    "--要求将查询结果放在一张新的永久表(假设新表名为new-sc)中。\n",
    "\n",
    "CREATE TABLE \"new-sc\" AS\n",
    "\n",
    "SELECT student.Sname, course.Cname, SC.Grade\n",
    "\n",
    "FROM student, course, SC\n",
    "\n",
    "WHERE SC.Grade IS NOT NULL AND student.Sno=SC.Sno AND SC.Cno=course.Cno;\n",
    "\n",
    "反思：\n",
    "\n",
    "1.这种做法和INNER JOIN 的区别是什么？\n",
    "\n",
    "2.SQLite 复制到新表的方法，create table as，表名称带-的要加\"\"."
   ]
  },
  {
   "cell_type": "markdown",
   "metadata": {},
   "source": [
    "17.分别查询信息系和计算机系的学生的姓名、性别、修课名称、修课成绩,\n",
    "\n",
    "--并要求将这两个查询结果合并成一个结果集,\n",
    "\n",
    "--并以系名、姓名、性别、修课名称、修课成绩的顺序显示各列。\n",
    "\n",
    "错误解：\n",
    "\n",
    "SELECT student.Sdept, Sname, Ssex, Cname, Grade\n",
    "\n",
    "FROM student, course, SC\n",
    "\n",
    "WHERE student.Sdept=\"计算机\" OR student.Sdept='信息管理' AND student.Sno=SC.Sno AND course.Cno=SC.Cno;\n",
    "\n",
    "反思：错误解的结果产生的逻辑是什么？ 应该改为\n",
    "\n",
    "WHERE (student.Sdept=\"计算机\" OR student.Sdept='信息管理') AND student.Sno=SC.Sno AND course.Cno=SC.Cno;\n",
    "\n",
    "OR 和 AND 运算符的运算顺序是什么？\n",
    "\n",
    "用INNER JOIN的解法：\n",
    "\n",
    "思考：是SC与student以及SC与course之间的JOIN吗？因为student与course之间没有连接\n",
    "\n",
    "INNER JOIN的内部逻辑是什么？\n",
    "\n",
    "SELECT Sdept, Sname, Ssex, Cname, Grade\n",
    "\n",
    "FROM SC\n",
    "\n",
    "INNER JOIN student ON(SC.Sno=student.Sno)\n",
    "\n",
    "INNER JOIN course ON(SC.Cno=course.Cno)\n",
    "\n",
    "WHERE Sdept='计算机' OR Sdept='信息管理';\n",
    "\n",
    "union的解法：\n",
    "\n",
    "SELECT Sdept, Sname, Ssex, Cname, Grade\n",
    "\n",
    "FROM SC\n",
    "\n",
    "INNER JOIN student ON(SC.Sno=student.Sno)\n",
    "\n",
    "INNER JOIN course ON(SC.Cno=course.Cno)\n",
    "\n",
    "WHERE Sdept='计算机'\n",
    "\n",
    "UNION\n",
    "\n",
    "SELECT Sdept, Sname, Ssex, Cname, Grade\n",
    "\n",
    "FROM SC\n",
    "\n",
    "INNER JOIN student ON(SC.Sno=student.Sno)\n",
    "\n",
    "INNER JOIN course ON(SC.Cno=course.Cno)\n",
    "\n",
    "WHERE Sdept='信息管理';"
   ]
  },
  {
   "cell_type": "markdown",
   "metadata": {},
   "source": [
    "18.用子查询实现如下查询:\n",
    "\n",
    "--(1)    查询选修了C01号课程的学生的姓名和所在系。\n",
    "\n",
    "SELECT Sname, Sdept\n",
    "\n",
    "FROM student\n",
    "\n",
    "WHERE Student.Sno IN (SELECT Sno FROM SC WHERE Cno='C01');\n",
    "\n",
    "--(2)    查询数学系成绩80分以上的学生的学号、姓名。\n",
    "\n",
    "SELECT Sno, Sname\n",
    "\n",
    "FROM student\n",
    "\n",
    "WHERE Sdept='金融' AND\n",
    "\n",
    "Sno IN (SELECT Sno FROM SC WHERE Grade>80);\n",
    "\n",
    "--(3)    查询计算机系学生所选的课程名.\n",
    "\n",
    "特点：涉及三表的操作，多重嵌套的解法\n",
    "\n",
    "本质：\n",
    "\n",
    "只输出第二张表的数据，但却是根据第一张表来限定的，但两张表之间必须通过第三张表来联结\n",
    "\n",
    "SELECT DISTINCT Cname\n",
    "\n",
    "FROM course\n",
    "\n",
    "WHERE Cno IN \n",
    "\n",
    "(SELECT Cno FROM SC WHERE Sno IN \n",
    "\n",
    "(SELECT Sno FROM student WHERE Sdept='计算机'));"
   ]
  },
  {
   "cell_type": "markdown",
   "metadata": {},
   "source": [
    "19.将计算机系成绩高于80分的学生的修课情况插入到另一张表中,分两种情况实现：\n",
    "\n",
    "--(1)    在插入数据过程中建表。\n",
    "\n",
    "--SQLite不支持使用SELECT INTO插入数据的方法\n",
    "\n",
    "\n",
    "\n",
    "--(2)    先建一个新表,然后再插入数据。\n",
    "\n",
    "--创建表SC_Info2\n",
    "\n",
    "错误尝试：\n",
    "\n",
    "CREATE TABLE \"SC_Info2\" AS\n",
    "\n",
    "SELECT Sname, course.Cname\n",
    "\n",
    "FROM student, course\n",
    "\n",
    "WHERE Sdept='计算机' AND course.cno IN (SELECT DISTINCT Cno FROM SC WHERE Grade>80) AND Sno IN (...)\n",
    "\n",
    "反思：当涉及两个不相关的表时，如果之间没有JOIN会显示各自表符合的数据。\n",
    "\n",
    "不建议采用这样的方式，因为两列数据之间并没有必然联系，只是人为将两者凑/限制成最终答案。\n",
    "\n",
    "如例子：\n",
    "\n",
    "SELECT Sname, course.Cname\n",
    "\n",
    "FROM student, course\n",
    "\n",
    "WHERE Sdept='计算机'\n",
    "\n",
    "在Sname和Cname之间并不一定有对应关系，所以用JOIN的方式更加保险。\n",
    "\n",
    "正确解：\n",
    "\n",
    "CREATE TABLE \"SC_Info2\" AS\n",
    "\n",
    "SELECT Sname, course.Cname\n",
    "\n",
    "FROM SC\n",
    "\n",
    "INNER JOIN student ON (student.sno=SC.sno)\n",
    "\n",
    "INNER JOIN course ON (course.cno=SC.cno)\n",
    "\n",
    "WHERE student.Sdept='计算机' AND\n",
    "\n",
    "SC.grade>80;"
   ]
  },
  {
   "cell_type": "markdown",
   "metadata": {},
   "source": [
    "20.删除修课成绩小于50分的学生的修课记录\n",
    "\n",
    "DELETE FROM SC\n",
    "\n",
    "WHERE Grade<50;"
   ]
  },
  {
   "cell_type": "markdown",
   "metadata": {},
   "source": [
    "21.将所有选修了\"c01\"课程的学生的成绩加10分\n",
    "\n",
    "UPDATE SC SET\n",
    "\n",
    "Grade = Grade + 10\n",
    "\n",
    "WHERE SC.Cno='C01';"
   ]
  },
  {
   "cell_type": "markdown",
   "metadata": {},
   "source": [
    "疑问：\n",
    "\n",
    "1.\n",
    "\n",
    "SELECT DISTINCT Sno FROM SC 和\n",
    "\n",
    "SELECT DISTINCT Sno, COUNT(*)\n",
    "\n",
    "FROM SC\n",
    "\n",
    "结果为什么不同？"
   ]
  },
  {
   "cell_type": "code",
   "execution_count": null,
   "metadata": {
    "collapsed": true
   },
   "outputs": [],
   "source": []
  }
 ],
 "metadata": {
  "anaconda-cloud": {},
  "kernelspec": {
   "display_name": "Python [conda root]",
   "language": "python",
   "name": "conda-root-py"
  },
  "language_info": {
   "codemirror_mode": {
    "name": "ipython",
    "version": 3
   },
   "file_extension": ".py",
   "mimetype": "text/x-python",
   "name": "python",
   "nbconvert_exporter": "python",
   "pygments_lexer": "ipython3",
   "version": "3.5.2"
  }
 },
 "nbformat": 4,
 "nbformat_minor": 1
}
