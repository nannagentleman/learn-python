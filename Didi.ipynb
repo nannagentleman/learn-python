{
 "cells": [
  {
   "cell_type": "markdown",
   "metadata": {},
   "source": [
    "# 读取数据"
   ]
  },
  {
   "cell_type": "code",
   "execution_count": 386,
   "metadata": {
    "collapsed": true
   },
   "outputs": [],
   "source": [
    "import pandas as pd\n",
    "import numpy as np"
   ]
  },
  {
   "cell_type": "code",
   "execution_count": 387,
   "metadata": {
    "collapsed": true
   },
   "outputs": [],
   "source": [
    "order = pd.read_table(\"training_data/order_data/order_data_2016-01-01\", names = [\"order_id\", \"driver_id\", \"passenger_id\", \"start_district_hash\", \"dest_district_hash\", \"price\", \"time\"])\n",
    "cluster = pd.read_table(\"training_data/cluster_map/cluster_map\", names = [\"district_hash\", \"district_id\"])\n",
    "weather = pd.read_table(\"training_data/weather_data/weather_data_2016-01-01\", names = [\"time\", \"weather\", \"temperature\", \"PM2.5\"])\n",
    "traffic = pd.read_table(\"training_data/traffic_data/traffic_data_2016-01-01\", names = [\"district_hash\",\"level_1\", \"level_2\", \"level_3\", \"level_4\", \"tj_time\"])"
   ]
  },
  {
   "cell_type": "markdown",
   "metadata": {},
   "source": [
    "# 数据整理"
   ]
  },
  {
   "cell_type": "markdown",
   "metadata": {},
   "source": [
    "#### 订单数据去重"
   ]
  },
  {
   "cell_type": "code",
   "execution_count": 388,
   "metadata": {
    "collapsed": true
   },
   "outputs": [],
   "source": [
    "order = order.drop_duplicates() "
   ]
  },
  {
   "cell_type": "code",
   "execution_count": 389,
   "metadata": {
    "collapsed": false
   },
   "outputs": [
    {
     "data": {
      "text/plain": [
       "(498824, 7)"
      ]
     },
     "execution_count": 389,
     "metadata": {},
     "output_type": "execute_result"
    }
   ],
   "source": [
    "order.shape"
   ]
  },
  {
   "cell_type": "markdown",
   "metadata": {},
   "source": [
    "#### 计算order时间片字段"
   ]
  },
  {
   "cell_type": "code",
   "execution_count": 390,
   "metadata": {
    "collapsed": true
   },
   "outputs": [],
   "source": [
    "time = pd.DataFrame((x.split(' ') for x in order['time']), columns=['date','t'])\n",
    "s = pd.DataFrame((x.split(':') for x in time['t']), columns=['hour','minute','second'])"
   ]
  },
  {
   "cell_type": "code",
   "execution_count": 391,
   "metadata": {
    "collapsed": true
   },
   "outputs": [],
   "source": [
    "s[\"hour\"] = s[\"hour\"].astype(int)\n",
    "s[\"minute\"] = s[\"minute\"].astype(int)\n",
    "s[\"second\"] = s[\"second\"].astype(int)"
   ]
  },
  {
   "cell_type": "code",
   "execution_count": 392,
   "metadata": {
    "collapsed": false
   },
   "outputs": [
    {
     "data": {
      "text/html": [
       "<div>\n",
       "<table border=\"1\" class=\"dataframe\">\n",
       "  <thead>\n",
       "    <tr style=\"text-align: right;\">\n",
       "      <th></th>\n",
       "      <th>hour</th>\n",
       "      <th>minute</th>\n",
       "      <th>second</th>\n",
       "    </tr>\n",
       "  </thead>\n",
       "  <tbody>\n",
       "    <tr>\n",
       "      <th>0</th>\n",
       "      <td>13</td>\n",
       "      <td>37</td>\n",
       "      <td>23</td>\n",
       "    </tr>\n",
       "    <tr>\n",
       "      <th>1</th>\n",
       "      <td>9</td>\n",
       "      <td>47</td>\n",
       "      <td>54</td>\n",
       "    </tr>\n",
       "    <tr>\n",
       "      <th>2</th>\n",
       "      <td>18</td>\n",
       "      <td>24</td>\n",
       "      <td>2</td>\n",
       "    </tr>\n",
       "    <tr>\n",
       "      <th>3</th>\n",
       "      <td>22</td>\n",
       "      <td>13</td>\n",
       "      <td>27</td>\n",
       "    </tr>\n",
       "    <tr>\n",
       "      <th>4</th>\n",
       "      <td>17</td>\n",
       "      <td>0</td>\n",
       "      <td>6</td>\n",
       "    </tr>\n",
       "  </tbody>\n",
       "</table>\n",
       "</div>"
      ],
      "text/plain": [
       "   hour  minute  second\n",
       "0    13      37      23\n",
       "1     9      47      54\n",
       "2    18      24       2\n",
       "3    22      13      27\n",
       "4    17       0       6"
      ]
     },
     "execution_count": 392,
     "metadata": {},
     "output_type": "execute_result"
    }
   ],
   "source": [
    "s.head()"
   ]
  },
  {
   "cell_type": "code",
   "execution_count": 393,
   "metadata": {
    "collapsed": true
   },
   "outputs": [],
   "source": [
    "s[\"value\"] = s[\"hour\"]*6 + s[\"minute\"]//10 + 1\n",
    "order[\"time_slient\"] = s[\"value\"]"
   ]
  },
  {
   "cell_type": "code",
   "execution_count": 394,
   "metadata": {
    "collapsed": false
   },
   "outputs": [],
   "source": [
    "order = order.drop(\"time\", axis=1)"
   ]
  },
  {
   "cell_type": "markdown",
   "metadata": {},
   "source": [
    "#### 计算weather时间片字段"
   ]
  },
  {
   "cell_type": "code",
   "execution_count": 395,
   "metadata": {
    "collapsed": true
   },
   "outputs": [],
   "source": [
    "weather_time = pd.DataFrame((x.split(' ') for x in weather['time']), columns=['date','t'])\n",
    "t = pd.DataFrame((x.split(':') for x in weather_time['t']), columns=['hour','minute','second'])"
   ]
  },
  {
   "cell_type": "code",
   "execution_count": 396,
   "metadata": {
    "collapsed": true
   },
   "outputs": [],
   "source": [
    "t[\"hour\"] = t[\"hour\"].astype(int)\n",
    "t[\"minute\"] = t[\"minute\"].astype(int)\n",
    "t[\"second\"] = t[\"second\"].astype(int)"
   ]
  },
  {
   "cell_type": "code",
   "execution_count": 397,
   "metadata": {
    "collapsed": true
   },
   "outputs": [],
   "source": [
    "t[\"value\"] = t[\"hour\"]*6 + t[\"minute\"]//10 + 1\n",
    "weather[\"time_slient\"] = t[\"value\"]"
   ]
  },
  {
   "cell_type": "markdown",
   "metadata": {},
   "source": [
    "#### 处理traffic数据"
   ]
  },
  {
   "cell_type": "code",
   "execution_count": 398,
   "metadata": {
    "collapsed": true
   },
   "outputs": [],
   "source": [
    "le1 = pd.DataFrame((x.split(':') for x in traffic['level_1']), columns=['level','num'])\n",
    "le2 = pd.DataFrame((x.split(':') for x in traffic['level_2']), columns=['level','num'])\n",
    "le3 = pd.DataFrame((x.split(':') for x in traffic['level_3']), columns=['level','num'])\n",
    "le4 = pd.DataFrame((x.split(':') for x in traffic['level_4']), columns=['level','num'])"
   ]
  },
  {
   "cell_type": "code",
   "execution_count": 399,
   "metadata": {
    "collapsed": true
   },
   "outputs": [],
   "source": [
    "traffic['level_1'] = le1['num']\n",
    "traffic['level_2'] = le2['num']\n",
    "traffic['level_3'] = le3['num']\n",
    "traffic['level_4'] = le4['num']"
   ]
  },
  {
   "cell_type": "code",
   "execution_count": 400,
   "metadata": {
    "collapsed": false
   },
   "outputs": [],
   "source": [
    "traffic_time = pd.DataFrame((x.split(' ') for x in traffic['tj_time']), columns=['date','t'])\n",
    "tr = pd.DataFrame((x.split(':') for x in traffic_time['t']), columns=['hour','minute','second'])"
   ]
  },
  {
   "cell_type": "code",
   "execution_count": 401,
   "metadata": {
    "collapsed": true
   },
   "outputs": [],
   "source": [
    "tr[\"hour\"] = tr[\"hour\"].astype(int)\n",
    "tr[\"minute\"] = tr[\"minute\"].astype(int)\n",
    "tr[\"second\"] = tr[\"second\"].astype(int)"
   ]
  },
  {
   "cell_type": "code",
   "execution_count": 402,
   "metadata": {
    "collapsed": true
   },
   "outputs": [],
   "source": [
    "tr[\"value\"] = tr[\"hour\"]*6 + tr[\"minute\"]//10 + 1\n",
    "traffic[\"time_slient\"] = tr[\"value\"]"
   ]
  },
  {
   "cell_type": "markdown",
   "metadata": {},
   "source": [
    "#### 与cluster数据集合并操作"
   ]
  },
  {
   "cell_type": "code",
   "execution_count": 403,
   "metadata": {
    "collapsed": true
   },
   "outputs": [],
   "source": [
    "order = pd.merge(order, cluster, how = 'left', left_on=\"start_district_hash\", right_on=\"district_hash\")"
   ]
  },
  {
   "cell_type": "code",
   "execution_count": 404,
   "metadata": {
    "collapsed": false
   },
   "outputs": [
    {
     "data": {
      "text/html": [
       "<div>\n",
       "<table border=\"1\" class=\"dataframe\">\n",
       "  <thead>\n",
       "    <tr style=\"text-align: right;\">\n",
       "      <th></th>\n",
       "      <th>order_id</th>\n",
       "      <th>driver_id</th>\n",
       "      <th>passenger_id</th>\n",
       "      <th>start_district_hash</th>\n",
       "      <th>dest_district_hash</th>\n",
       "      <th>price</th>\n",
       "      <th>time_slient</th>\n",
       "      <th>district_hash</th>\n",
       "      <th>district_id</th>\n",
       "    </tr>\n",
       "  </thead>\n",
       "  <tbody>\n",
       "    <tr>\n",
       "      <th>0</th>\n",
       "      <td>97ebd0c6680f7c0535dbfdead6e51b4b</td>\n",
       "      <td>dd65fa250fca2833a3a8c16d2cf0457c</td>\n",
       "      <td>ed180d7daf639d936f1aeae4f7fb482f</td>\n",
       "      <td>4725c39a5e5f4c188d382da3910b3f3f</td>\n",
       "      <td>3e12208dd0be281c92a6ab57d9a6fb32</td>\n",
       "      <td>24.0</td>\n",
       "      <td>82.0</td>\n",
       "      <td>4725c39a5e5f4c188d382da3910b3f3f</td>\n",
       "      <td>23</td>\n",
       "    </tr>\n",
       "    <tr>\n",
       "      <th>1</th>\n",
       "      <td>92c3ac9251cc9b5aab90b114a1e363be</td>\n",
       "      <td>c077e0297639edcb1df6189e8cda2c3d</td>\n",
       "      <td>191a180f0a262aff3267775c4fac8972</td>\n",
       "      <td>82cc4851f9e4faa4e54309f8bb73fd7c</td>\n",
       "      <td>b05379ac3f9b7d99370d443cfd5dcc28</td>\n",
       "      <td>2.0</td>\n",
       "      <td>59.0</td>\n",
       "      <td>82cc4851f9e4faa4e54309f8bb73fd7c</td>\n",
       "      <td>8</td>\n",
       "    </tr>\n",
       "    <tr>\n",
       "      <th>2</th>\n",
       "      <td>abeefc3e2aec952468e2fd42a1649640</td>\n",
       "      <td>86dbc1b68de435957c61b5a523854b69</td>\n",
       "      <td>7029e813bb3de8cc73a8615e2785070c</td>\n",
       "      <td>fff4e8465d1e12621bc361276b6217cf</td>\n",
       "      <td>fff4e8465d1e12621bc361276b6217cf</td>\n",
       "      <td>9.0</td>\n",
       "      <td>111.0</td>\n",
       "      <td>fff4e8465d1e12621bc361276b6217cf</td>\n",
       "      <td>32</td>\n",
       "    </tr>\n",
       "    <tr>\n",
       "      <th>3</th>\n",
       "      <td>cb31d0be64cda3cc66b46617bf49a05c</td>\n",
       "      <td>4fadfa6eeaa694742de036dddf02b0c4</td>\n",
       "      <td>21dc133ac68e4c07803d1c2f48988a83</td>\n",
       "      <td>4b7f6f4e2bf237b6cc58f57142bea5c0</td>\n",
       "      <td>4b7f6f4e2bf237b6cc58f57142bea5c0</td>\n",
       "      <td>11.0</td>\n",
       "      <td>134.0</td>\n",
       "      <td>4b7f6f4e2bf237b6cc58f57142bea5c0</td>\n",
       "      <td>13</td>\n",
       "    </tr>\n",
       "    <tr>\n",
       "      <th>4</th>\n",
       "      <td>139d492189ae5a933122c098f63252b3</td>\n",
       "      <td>NaN</td>\n",
       "      <td>26963cc76da2d8450d8f23fc357db987</td>\n",
       "      <td>fc34648599753c9e74ab238e9a4a07ad</td>\n",
       "      <td>87285a66236346350541b8815c5fae94</td>\n",
       "      <td>4.0</td>\n",
       "      <td>103.0</td>\n",
       "      <td>fc34648599753c9e74ab238e9a4a07ad</td>\n",
       "      <td>27</td>\n",
       "    </tr>\n",
       "  </tbody>\n",
       "</table>\n",
       "</div>"
      ],
      "text/plain": [
       "                           order_id                         driver_id  \\\n",
       "0  97ebd0c6680f7c0535dbfdead6e51b4b  dd65fa250fca2833a3a8c16d2cf0457c   \n",
       "1  92c3ac9251cc9b5aab90b114a1e363be  c077e0297639edcb1df6189e8cda2c3d   \n",
       "2  abeefc3e2aec952468e2fd42a1649640  86dbc1b68de435957c61b5a523854b69   \n",
       "3  cb31d0be64cda3cc66b46617bf49a05c  4fadfa6eeaa694742de036dddf02b0c4   \n",
       "4  139d492189ae5a933122c098f63252b3                               NaN   \n",
       "\n",
       "                       passenger_id               start_district_hash  \\\n",
       "0  ed180d7daf639d936f1aeae4f7fb482f  4725c39a5e5f4c188d382da3910b3f3f   \n",
       "1  191a180f0a262aff3267775c4fac8972  82cc4851f9e4faa4e54309f8bb73fd7c   \n",
       "2  7029e813bb3de8cc73a8615e2785070c  fff4e8465d1e12621bc361276b6217cf   \n",
       "3  21dc133ac68e4c07803d1c2f48988a83  4b7f6f4e2bf237b6cc58f57142bea5c0   \n",
       "4  26963cc76da2d8450d8f23fc357db987  fc34648599753c9e74ab238e9a4a07ad   \n",
       "\n",
       "                 dest_district_hash  price  time_slient  \\\n",
       "0  3e12208dd0be281c92a6ab57d9a6fb32   24.0         82.0   \n",
       "1  b05379ac3f9b7d99370d443cfd5dcc28    2.0         59.0   \n",
       "2  fff4e8465d1e12621bc361276b6217cf    9.0        111.0   \n",
       "3  4b7f6f4e2bf237b6cc58f57142bea5c0   11.0        134.0   \n",
       "4  87285a66236346350541b8815c5fae94    4.0        103.0   \n",
       "\n",
       "                      district_hash  district_id  \n",
       "0  4725c39a5e5f4c188d382da3910b3f3f           23  \n",
       "1  82cc4851f9e4faa4e54309f8bb73fd7c            8  \n",
       "2  fff4e8465d1e12621bc361276b6217cf           32  \n",
       "3  4b7f6f4e2bf237b6cc58f57142bea5c0           13  \n",
       "4  fc34648599753c9e74ab238e9a4a07ad           27  "
      ]
     },
     "execution_count": 404,
     "metadata": {},
     "output_type": "execute_result"
    }
   ],
   "source": [
    "order.head()"
   ]
  },
  {
   "cell_type": "markdown",
   "metadata": {},
   "source": [
    "#### 计算每个区域对应的需求和缺口"
   ]
  },
  {
   "cell_type": "code",
   "execution_count": 405,
   "metadata": {
    "collapsed": false
   },
   "outputs": [],
   "source": [
    "grouped_driver = order[\"driver_id\"].groupby(order[\"time_slient\"]).count()\n",
    "grouped_order = order[\"order_id\"].groupby(order[\"time_slient\"]).count()"
   ]
  },
  {
   "cell_type": "code",
   "execution_count": 406,
   "metadata": {
    "collapsed": false
   },
   "outputs": [],
   "source": [
    "o = dict(grouped_order)\n",
    "d = dict(grouped_driver)"
   ]
  },
  {
   "cell_type": "code",
   "execution_count": 407,
   "metadata": {
    "collapsed": false
   },
   "outputs": [],
   "source": [
    "order[\"total\"] = order[\"time_slient\"].replace(o) \n",
    "order[\"completed\"] = order[\"time_slient\"].replace(d)"
   ]
  },
  {
   "cell_type": "code",
   "execution_count": 408,
   "metadata": {
    "collapsed": true
   },
   "outputs": [],
   "source": [
    "order[\"gap\"] = order[\"total\"] - order[\"completed\"]\n",
    "order[\"gap_percent\"] = order[\"gap\"] / order[\"total\"]"
   ]
  },
  {
   "cell_type": "code",
   "execution_count": 409,
   "metadata": {
    "collapsed": false
   },
   "outputs": [],
   "source": [
    "pd.set_option('precision',2)"
   ]
  },
  {
   "cell_type": "code",
   "execution_count": 410,
   "metadata": {
    "collapsed": false,
    "scrolled": true
   },
   "outputs": [],
   "source": [
    "order[\"driver_is_null\"] = pd.isnull(order[\"driver_id\"])"
   ]
  },
  {
   "cell_type": "markdown",
   "metadata": {},
   "source": [
    "####  删除冗余的数据"
   ]
  },
  {
   "cell_type": "code",
   "execution_count": 413,
   "metadata": {
    "collapsed": false
   },
   "outputs": [],
   "source": [
    "clean_order = order.drop('order_id', axis=1)\n",
    "clean_order = clean_order.drop('driver_id', axis=1)\n",
    "clean_order = clean_order.drop('start_district_hash', axis=1)\n",
    "clean_order = clean_order.drop('district_hash', axis=1)\n",
    "clean_order = clean_order.drop(\"completed\", axis=1)\n",
    "clean_order = clean_order.drop(\"passenger_id\", axis=1)\n",
    "clean_order = clean_order.drop('dest_district_hash', axis=1)\n",
    "clean_order = clean_order.drop('dest_district_hash', axis=1)\n",
    "clean_order = clean_order.drop('dest_district_hash', axis=1)\n",
    "clean_order = clean_order.drop('dest_district_hash', axis=1)"
   ]
  },
  {
   "cell_type": "markdown",
   "metadata": {},
   "source": [
    "#### 导出csv文件"
   ]
  },
  {
   "cell_type": "code",
   "execution_count": 418,
   "metadata": {
    "collapsed": true
   },
   "outputs": [],
   "source": [
    "clean_order.to_csv('cleaned_order_01-01.csv')"
   ]
  },
  {
   "cell_type": "markdown",
   "metadata": {},
   "source": [
    "#### 与天气和交通数据合并"
   ]
  },
  {
   "cell_type": "code",
   "execution_count": 311,
   "metadata": {
    "collapsed": true
   },
   "outputs": [],
   "source": [
    "order = pd.merge(order, weather, how = 'left', on=\"time_slient\")"
   ]
  },
  {
   "cell_type": "code",
   "execution_count": 312,
   "metadata": {
    "collapsed": true
   },
   "outputs": [],
   "source": [
    "order = pd.merge(order, traffic, on=[\"time_slient\",\"district_hash\"])"
   ]
  },
  {
   "cell_type": "markdown",
   "metadata": {},
   "source": [
    "#### 导出合并后的csv文件"
   ]
  },
  {
   "cell_type": "code",
   "execution_count": null,
   "metadata": {
    "collapsed": true
   },
   "outputs": [],
   "source": [
    "order.to_csv('order_01-01.csv')"
   ]
  },
  {
   "cell_type": "code",
   "execution_count": 417,
   "metadata": {
    "collapsed": false
   },
   "outputs": [
    {
     "data": {
      "text/html": [
       "<div>\n",
       "<table border=\"1\" class=\"dataframe\">\n",
       "  <thead>\n",
       "    <tr style=\"text-align: right;\">\n",
       "      <th></th>\n",
       "      <th>price</th>\n",
       "      <th>time_slient</th>\n",
       "      <th>district_id</th>\n",
       "      <th>driver_is_null</th>\n",
       "    </tr>\n",
       "  </thead>\n",
       "  <tbody>\n",
       "    <tr>\n",
       "      <th>0</th>\n",
       "      <td>24.0</td>\n",
       "      <td>82.0</td>\n",
       "      <td>23</td>\n",
       "      <td>False</td>\n",
       "    </tr>\n",
       "    <tr>\n",
       "      <th>1</th>\n",
       "      <td>2.0</td>\n",
       "      <td>59.0</td>\n",
       "      <td>8</td>\n",
       "      <td>False</td>\n",
       "    </tr>\n",
       "    <tr>\n",
       "      <th>2</th>\n",
       "      <td>9.0</td>\n",
       "      <td>111.0</td>\n",
       "      <td>32</td>\n",
       "      <td>False</td>\n",
       "    </tr>\n",
       "    <tr>\n",
       "      <th>3</th>\n",
       "      <td>11.0</td>\n",
       "      <td>134.0</td>\n",
       "      <td>13</td>\n",
       "      <td>False</td>\n",
       "    </tr>\n",
       "    <tr>\n",
       "      <th>4</th>\n",
       "      <td>4.0</td>\n",
       "      <td>103.0</td>\n",
       "      <td>27</td>\n",
       "      <td>True</td>\n",
       "    </tr>\n",
       "  </tbody>\n",
       "</table>\n",
       "</div>"
      ],
      "text/plain": [
       "   price  time_slient  district_id driver_is_null\n",
       "0   24.0         82.0           23          False\n",
       "1    2.0         59.0            8          False\n",
       "2    9.0        111.0           32          False\n",
       "3   11.0        134.0           13          False\n",
       "4    4.0        103.0           27           True"
      ]
     },
     "execution_count": 417,
     "metadata": {},
     "output_type": "execute_result"
    }
   ],
   "source": [
    "clean_order.head()"
   ]
  },
  {
   "cell_type": "code",
   "execution_count": 416,
   "metadata": {
    "collapsed": true
   },
   "outputs": [],
   "source": [
    "clean_order = clean_order.drop('total', axis=1)\n",
    "clean_order = clean_order.drop('gap', axis=1)\n",
    "clean_order = clean_order.drop('gap_percent', axis=1)"
   ]
  },
  {
   "cell_type": "code",
   "execution_count": null,
   "metadata": {
    "collapsed": true
   },
   "outputs": [],
   "source": []
  }
 ],
 "metadata": {
  "anaconda-cloud": {},
  "kernelspec": {
   "display_name": "Python [conda root]",
   "language": "python",
   "name": "conda-root-py"
  },
  "language_info": {
   "codemirror_mode": {
    "name": "ipython",
    "version": 3
   },
   "file_extension": ".py",
   "mimetype": "text/x-python",
   "name": "python",
   "nbconvert_exporter": "python",
   "pygments_lexer": "ipython3",
   "version": "3.5.2"
  }
 },
 "nbformat": 4,
 "nbformat_minor": 1
}
